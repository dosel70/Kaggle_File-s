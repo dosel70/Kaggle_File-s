{
 "cells": [
  {
   "cell_type": "code",
   "execution_count": 1,
   "id": "8adaf163",
   "metadata": {
    "_cell_guid": "b1076dfc-b9ad-4769-8c92-a6c4dae69d19",
    "_uuid": "8f2839f25d086af736a60e9eeb907d3b93b6e0e5",
    "execution": {
     "iopub.execute_input": "2024-05-04T05:22:51.499105Z",
     "iopub.status.busy": "2024-05-04T05:22:51.498396Z",
     "iopub.status.idle": "2024-05-04T05:22:52.815096Z",
     "shell.execute_reply": "2024-05-04T05:22:52.813868Z"
    },
    "papermill": {
     "duration": 1.33734,
     "end_time": "2024-05-04T05:22:52.818082",
     "exception": false,
     "start_time": "2024-05-04T05:22:51.480742",
     "status": "completed"
    },
    "tags": []
   },
   "outputs": [
    {
     "name": "stdout",
     "output_type": "stream",
     "text": [
      "/kaggle/input/real-estate-goldmine-dubai-uae-rental-market/dubai_properties.csv\n"
     ]
    }
   ],
   "source": [
    "# This Python 3 environment comes with many helpful analytics libraries installed\n",
    "# It is defined by the kaggle/python Docker image: https://github.com/kaggle/docker-python\n",
    "# For example, here's several helpful packages to load\n",
    "\n",
    "import numpy as np # linear algebra\n",
    "import pandas as pd # data processing, CSV file I/O (e.g. pd.read_csv)\n",
    "\n",
    "# Input data files are available in the read-only \"../input/\" directory\n",
    "# For example, running this (by clicking run or pressing Shift+Enter) will list all files under the input directory\n",
    "\n",
    "import os\n",
    "for dirname, _, filenames in os.walk('/kaggle/input'):\n",
    "    for filename in filenames:\n",
    "        print(os.path.join(dirname, filename))\n",
    "\n",
    "# You can write up to 20GB to the current directory (/kaggle/working/) that gets preserved as output when you create a version using \"Save & Run All\" \n",
    "# You can also write temporary files to /kaggle/temp/, but they won't be saved outside of the current session"
   ]
  },
  {
   "cell_type": "markdown",
   "id": "2a6ec68b",
   "metadata": {
    "papermill": {
     "duration": 0.012862,
     "end_time": "2024-05-04T05:22:52.844609",
     "exception": false,
     "start_time": "2024-05-04T05:22:52.831747",
     "status": "completed"
    },
    "tags": []
   },
   "source": [
    "### ✏️ Target Data : Rent "
   ]
  },
  {
   "cell_type": "code",
   "execution_count": 2,
   "id": "cbeb0522",
   "metadata": {
    "execution": {
     "iopub.execute_input": "2024-05-04T05:22:52.874169Z",
     "iopub.status.busy": "2024-05-04T05:22:52.873040Z",
     "iopub.status.idle": "2024-05-04T05:22:53.390087Z",
     "shell.execute_reply": "2024-05-04T05:22:53.388873Z"
    },
    "papermill": {
     "duration": 0.535264,
     "end_time": "2024-05-04T05:22:53.392852",
     "exception": false,
     "start_time": "2024-05-04T05:22:52.857588",
     "status": "completed"
    },
    "tags": []
   },
   "outputs": [
    {
     "data": {
      "text/html": [
       "<div>\n",
       "<style scoped>\n",
       "    .dataframe tbody tr th:only-of-type {\n",
       "        vertical-align: middle;\n",
       "    }\n",
       "\n",
       "    .dataframe tbody tr th {\n",
       "        vertical-align: top;\n",
       "    }\n",
       "\n",
       "    .dataframe thead th {\n",
       "        text-align: right;\n",
       "    }\n",
       "</style>\n",
       "<table border=\"1\" class=\"dataframe\">\n",
       "  <thead>\n",
       "    <tr style=\"text-align: right;\">\n",
       "      <th></th>\n",
       "      <th>Address</th>\n",
       "      <th>Rent</th>\n",
       "      <th>Beds</th>\n",
       "      <th>Baths</th>\n",
       "      <th>Type</th>\n",
       "      <th>Area_in_sqft</th>\n",
       "      <th>Rent_per_sqft</th>\n",
       "      <th>Rent_category</th>\n",
       "      <th>Frequency</th>\n",
       "      <th>Furnishing</th>\n",
       "      <th>Purpose</th>\n",
       "      <th>Posted_date</th>\n",
       "      <th>Age_of_listing_in_days</th>\n",
       "      <th>Location</th>\n",
       "      <th>City</th>\n",
       "      <th>Latitude</th>\n",
       "      <th>Longitude</th>\n",
       "    </tr>\n",
       "  </thead>\n",
       "  <tbody>\n",
       "    <tr>\n",
       "      <th>0</th>\n",
       "      <td>The Gate Tower 2, The Gate Tower, Shams Gate D...</td>\n",
       "      <td>124000</td>\n",
       "      <td>3</td>\n",
       "      <td>4</td>\n",
       "      <td>Apartment</td>\n",
       "      <td>1785</td>\n",
       "      <td>69.467787</td>\n",
       "      <td>Medium</td>\n",
       "      <td>Yearly</td>\n",
       "      <td>Unfurnished</td>\n",
       "      <td>For Rent</td>\n",
       "      <td>2024-03-07</td>\n",
       "      <td>45</td>\n",
       "      <td>Al Reem Island</td>\n",
       "      <td>Abu Dhabi</td>\n",
       "      <td>24.493598</td>\n",
       "      <td>54.407841</td>\n",
       "    </tr>\n",
       "    <tr>\n",
       "      <th>1</th>\n",
       "      <td>Water's Edge, Yas Island, Abu Dhabi</td>\n",
       "      <td>140000</td>\n",
       "      <td>3</td>\n",
       "      <td>4</td>\n",
       "      <td>Apartment</td>\n",
       "      <td>1422</td>\n",
       "      <td>98.452883</td>\n",
       "      <td>Medium</td>\n",
       "      <td>Yearly</td>\n",
       "      <td>Unfurnished</td>\n",
       "      <td>For Rent</td>\n",
       "      <td>2024-03-08</td>\n",
       "      <td>44</td>\n",
       "      <td>Yas Island</td>\n",
       "      <td>Abu Dhabi</td>\n",
       "      <td>24.494022</td>\n",
       "      <td>54.607372</td>\n",
       "    </tr>\n",
       "    <tr>\n",
       "      <th>2</th>\n",
       "      <td>Al Raha Lofts, Al Raha Beach, Abu Dhabi</td>\n",
       "      <td>99000</td>\n",
       "      <td>2</td>\n",
       "      <td>3</td>\n",
       "      <td>Apartment</td>\n",
       "      <td>1314</td>\n",
       "      <td>75.342466</td>\n",
       "      <td>Medium</td>\n",
       "      <td>Yearly</td>\n",
       "      <td>Furnished</td>\n",
       "      <td>For Rent</td>\n",
       "      <td>2024-03-21</td>\n",
       "      <td>31</td>\n",
       "      <td>Al Raha Beach</td>\n",
       "      <td>Abu Dhabi</td>\n",
       "      <td>24.485931</td>\n",
       "      <td>54.600939</td>\n",
       "    </tr>\n",
       "    <tr>\n",
       "      <th>3</th>\n",
       "      <td>Marina Heights, Marina Square, Al Reem Island,...</td>\n",
       "      <td>220000</td>\n",
       "      <td>3</td>\n",
       "      <td>4</td>\n",
       "      <td>Penthouse</td>\n",
       "      <td>3843</td>\n",
       "      <td>57.246942</td>\n",
       "      <td>High</td>\n",
       "      <td>Yearly</td>\n",
       "      <td>Unfurnished</td>\n",
       "      <td>For Rent</td>\n",
       "      <td>2024-02-24</td>\n",
       "      <td>57</td>\n",
       "      <td>Al Reem Island</td>\n",
       "      <td>Abu Dhabi</td>\n",
       "      <td>24.493598</td>\n",
       "      <td>54.407841</td>\n",
       "    </tr>\n",
       "    <tr>\n",
       "      <th>4</th>\n",
       "      <td>West Yas, Yas Island, Abu Dhabi</td>\n",
       "      <td>350000</td>\n",
       "      <td>5</td>\n",
       "      <td>7</td>\n",
       "      <td>Villa</td>\n",
       "      <td>6860</td>\n",
       "      <td>51.020408</td>\n",
       "      <td>High</td>\n",
       "      <td>Yearly</td>\n",
       "      <td>Unfurnished</td>\n",
       "      <td>For Rent</td>\n",
       "      <td>2024-02-16</td>\n",
       "      <td>65</td>\n",
       "      <td>Yas Island</td>\n",
       "      <td>Abu Dhabi</td>\n",
       "      <td>24.494022</td>\n",
       "      <td>54.607372</td>\n",
       "    </tr>\n",
       "    <tr>\n",
       "      <th>...</th>\n",
       "      <td>...</td>\n",
       "      <td>...</td>\n",
       "      <td>...</td>\n",
       "      <td>...</td>\n",
       "      <td>...</td>\n",
       "      <td>...</td>\n",
       "      <td>...</td>\n",
       "      <td>...</td>\n",
       "      <td>...</td>\n",
       "      <td>...</td>\n",
       "      <td>...</td>\n",
       "      <td>...</td>\n",
       "      <td>...</td>\n",
       "      <td>...</td>\n",
       "      <td>...</td>\n",
       "      <td>...</td>\n",
       "      <td>...</td>\n",
       "    </tr>\n",
       "    <tr>\n",
       "      <th>73737</th>\n",
       "      <td>Al Huboob 1, Al Salamah, Umm Al Quwain</td>\n",
       "      <td>14000</td>\n",
       "      <td>0</td>\n",
       "      <td>1</td>\n",
       "      <td>Apartment</td>\n",
       "      <td>419</td>\n",
       "      <td>33.412888</td>\n",
       "      <td>Low</td>\n",
       "      <td>Yearly</td>\n",
       "      <td>Unfurnished</td>\n",
       "      <td>For Rent</td>\n",
       "      <td>2023-12-14</td>\n",
       "      <td>129</td>\n",
       "      <td>Al Salamah</td>\n",
       "      <td>Umm Al Quwain</td>\n",
       "      <td>25.493412</td>\n",
       "      <td>55.575994</td>\n",
       "    </tr>\n",
       "    <tr>\n",
       "      <th>73738</th>\n",
       "      <td>Umm Al Quwain Marina, Umm Al Quwain</td>\n",
       "      <td>14000</td>\n",
       "      <td>0</td>\n",
       "      <td>1</td>\n",
       "      <td>Apartment</td>\n",
       "      <td>500</td>\n",
       "      <td>28.000000</td>\n",
       "      <td>Low</td>\n",
       "      <td>Yearly</td>\n",
       "      <td>Unfurnished</td>\n",
       "      <td>For Rent</td>\n",
       "      <td>2023-12-14</td>\n",
       "      <td>129</td>\n",
       "      <td>Umm Al Quwain Marina</td>\n",
       "      <td>Umm Al Quwain</td>\n",
       "      <td>25.527959</td>\n",
       "      <td>55.606527</td>\n",
       "    </tr>\n",
       "    <tr>\n",
       "      <th>73739</th>\n",
       "      <td>King Faisal Street, Umm Al Quwain</td>\n",
       "      <td>50000</td>\n",
       "      <td>3</td>\n",
       "      <td>4</td>\n",
       "      <td>Apartment</td>\n",
       "      <td>2000</td>\n",
       "      <td>25.000000</td>\n",
       "      <td>Low</td>\n",
       "      <td>Yearly</td>\n",
       "      <td>Unfurnished</td>\n",
       "      <td>For Rent</td>\n",
       "      <td>2024-01-02</td>\n",
       "      <td>110</td>\n",
       "      <td>King Faisal Street</td>\n",
       "      <td>Umm Al Quwain</td>\n",
       "      <td>NaN</td>\n",
       "      <td>NaN</td>\n",
       "    </tr>\n",
       "    <tr>\n",
       "      <th>73740</th>\n",
       "      <td>Al Maqtaa, Umm Al Quwain</td>\n",
       "      <td>37000</td>\n",
       "      <td>1</td>\n",
       "      <td>2</td>\n",
       "      <td>Apartment</td>\n",
       "      <td>989</td>\n",
       "      <td>37.411527</td>\n",
       "      <td>Low</td>\n",
       "      <td>Yearly</td>\n",
       "      <td>Unfurnished</td>\n",
       "      <td>For Rent</td>\n",
       "      <td>2023-10-23</td>\n",
       "      <td>181</td>\n",
       "      <td>Al Maqtaa</td>\n",
       "      <td>Umm Al Quwain</td>\n",
       "      <td>NaN</td>\n",
       "      <td>NaN</td>\n",
       "    </tr>\n",
       "    <tr>\n",
       "      <th>73741</th>\n",
       "      <td>Al Rass, Umm Al Quwain</td>\n",
       "      <td>11000</td>\n",
       "      <td>0</td>\n",
       "      <td>1</td>\n",
       "      <td>Apartment</td>\n",
       "      <td>300</td>\n",
       "      <td>36.666667</td>\n",
       "      <td>Low</td>\n",
       "      <td>Yearly</td>\n",
       "      <td>Unfurnished</td>\n",
       "      <td>For Rent</td>\n",
       "      <td>2024-02-12</td>\n",
       "      <td>69</td>\n",
       "      <td>Al Rass</td>\n",
       "      <td>Umm Al Quwain</td>\n",
       "      <td>NaN</td>\n",
       "      <td>NaN</td>\n",
       "    </tr>\n",
       "  </tbody>\n",
       "</table>\n",
       "<p>73742 rows × 17 columns</p>\n",
       "</div>"
      ],
      "text/plain": [
       "                                                 Address    Rent  Beds  Baths  \\\n",
       "0      The Gate Tower 2, The Gate Tower, Shams Gate D...  124000     3      4   \n",
       "1                    Water's Edge, Yas Island, Abu Dhabi  140000     3      4   \n",
       "2                Al Raha Lofts, Al Raha Beach, Abu Dhabi   99000     2      3   \n",
       "3      Marina Heights, Marina Square, Al Reem Island,...  220000     3      4   \n",
       "4                        West Yas, Yas Island, Abu Dhabi  350000     5      7   \n",
       "...                                                  ...     ...   ...    ...   \n",
       "73737             Al Huboob 1, Al Salamah, Umm Al Quwain   14000     0      1   \n",
       "73738                Umm Al Quwain Marina, Umm Al Quwain   14000     0      1   \n",
       "73739                  King Faisal Street, Umm Al Quwain   50000     3      4   \n",
       "73740                           Al Maqtaa, Umm Al Quwain   37000     1      2   \n",
       "73741                             Al Rass, Umm Al Quwain   11000     0      1   \n",
       "\n",
       "            Type  Area_in_sqft  Rent_per_sqft Rent_category Frequency  \\\n",
       "0      Apartment          1785      69.467787        Medium    Yearly   \n",
       "1      Apartment          1422      98.452883        Medium    Yearly   \n",
       "2      Apartment          1314      75.342466        Medium    Yearly   \n",
       "3      Penthouse          3843      57.246942          High    Yearly   \n",
       "4          Villa          6860      51.020408          High    Yearly   \n",
       "...          ...           ...            ...           ...       ...   \n",
       "73737  Apartment           419      33.412888           Low    Yearly   \n",
       "73738  Apartment           500      28.000000           Low    Yearly   \n",
       "73739  Apartment          2000      25.000000           Low    Yearly   \n",
       "73740  Apartment           989      37.411527           Low    Yearly   \n",
       "73741  Apartment           300      36.666667           Low    Yearly   \n",
       "\n",
       "        Furnishing   Purpose Posted_date  Age_of_listing_in_days  \\\n",
       "0      Unfurnished  For Rent  2024-03-07                      45   \n",
       "1      Unfurnished  For Rent  2024-03-08                      44   \n",
       "2        Furnished  For Rent  2024-03-21                      31   \n",
       "3      Unfurnished  For Rent  2024-02-24                      57   \n",
       "4      Unfurnished  For Rent  2024-02-16                      65   \n",
       "...            ...       ...         ...                     ...   \n",
       "73737  Unfurnished  For Rent  2023-12-14                     129   \n",
       "73738  Unfurnished  For Rent  2023-12-14                     129   \n",
       "73739  Unfurnished  For Rent  2024-01-02                     110   \n",
       "73740  Unfurnished  For Rent  2023-10-23                     181   \n",
       "73741  Unfurnished  For Rent  2024-02-12                      69   \n",
       "\n",
       "                   Location           City   Latitude  Longitude  \n",
       "0            Al Reem Island      Abu Dhabi  24.493598  54.407841  \n",
       "1                Yas Island      Abu Dhabi  24.494022  54.607372  \n",
       "2             Al Raha Beach      Abu Dhabi  24.485931  54.600939  \n",
       "3            Al Reem Island      Abu Dhabi  24.493598  54.407841  \n",
       "4                Yas Island      Abu Dhabi  24.494022  54.607372  \n",
       "...                     ...            ...        ...        ...  \n",
       "73737            Al Salamah  Umm Al Quwain  25.493412  55.575994  \n",
       "73738  Umm Al Quwain Marina  Umm Al Quwain  25.527959  55.606527  \n",
       "73739    King Faisal Street  Umm Al Quwain        NaN        NaN  \n",
       "73740             Al Maqtaa  Umm Al Quwain        NaN        NaN  \n",
       "73741               Al Rass  Umm Al Quwain        NaN        NaN  \n",
       "\n",
       "[73742 rows x 17 columns]"
      ]
     },
     "execution_count": 2,
     "metadata": {},
     "output_type": "execute_result"
    }
   ],
   "source": [
    "df = pd.read_csv('/kaggle/input/real-estate-goldmine-dubai-uae-rental-market/dubai_properties.csv')\n",
    "df"
   ]
  },
  {
   "cell_type": "code",
   "execution_count": 3,
   "id": "2866424a",
   "metadata": {
    "execution": {
     "iopub.execute_input": "2024-05-04T05:22:53.420996Z",
     "iopub.status.busy": "2024-05-04T05:22:53.420569Z",
     "iopub.status.idle": "2024-05-04T05:22:53.523064Z",
     "shell.execute_reply": "2024-05-04T05:22:53.521530Z"
    },
    "papermill": {
     "duration": 0.120001,
     "end_time": "2024-05-04T05:22:53.526392",
     "exception": false,
     "start_time": "2024-05-04T05:22:53.406391",
     "status": "completed"
    },
    "tags": []
   },
   "outputs": [
    {
     "name": "stdout",
     "output_type": "stream",
     "text": [
      "<class 'pandas.core.frame.DataFrame'>\n",
      "RangeIndex: 73742 entries, 0 to 73741\n",
      "Data columns (total 17 columns):\n",
      " #   Column                  Non-Null Count  Dtype  \n",
      "---  ------                  --------------  -----  \n",
      " 0   Address                 73742 non-null  object \n",
      " 1   Rent                    73742 non-null  int64  \n",
      " 2   Beds                    73742 non-null  int64  \n",
      " 3   Baths                   73742 non-null  int64  \n",
      " 4   Type                    73742 non-null  object \n",
      " 5   Area_in_sqft            73742 non-null  int64  \n",
      " 6   Rent_per_sqft           73742 non-null  float64\n",
      " 7   Rent_category           73742 non-null  object \n",
      " 8   Frequency               73742 non-null  object \n",
      " 9   Furnishing              73742 non-null  object \n",
      " 10  Purpose                 73742 non-null  object \n",
      " 11  Posted_date             73742 non-null  object \n",
      " 12  Age_of_listing_in_days  73742 non-null  int64  \n",
      " 13  Location                73742 non-null  object \n",
      " 14  City                    73742 non-null  object \n",
      " 15  Latitude                73023 non-null  float64\n",
      " 16  Longitude               73023 non-null  float64\n",
      "dtypes: float64(3), int64(5), object(9)\n",
      "memory usage: 9.6+ MB\n"
     ]
    }
   ],
   "source": [
    "df.info()"
   ]
  },
  {
   "cell_type": "code",
   "execution_count": 4,
   "id": "ab3ad195",
   "metadata": {
    "execution": {
     "iopub.execute_input": "2024-05-04T05:22:53.556227Z",
     "iopub.status.busy": "2024-05-04T05:22:53.555124Z",
     "iopub.status.idle": "2024-05-04T05:22:53.721071Z",
     "shell.execute_reply": "2024-05-04T05:22:53.719848Z"
    },
    "papermill": {
     "duration": 0.183315,
     "end_time": "2024-05-04T05:22:53.723454",
     "exception": false,
     "start_time": "2024-05-04T05:22:53.540139",
     "status": "completed"
    },
    "tags": []
   },
   "outputs": [
    {
     "data": {
      "text/plain": [
       "Address                   0\n",
       "Rent                      0\n",
       "Beds                      0\n",
       "Baths                     0\n",
       "Type                      0\n",
       "Area_in_sqft              0\n",
       "Rent_per_sqft             0\n",
       "Rent_category             0\n",
       "Frequency                 0\n",
       "Furnishing                0\n",
       "Purpose                   0\n",
       "Posted_date               0\n",
       "Age_of_listing_in_days    0\n",
       "Location                  0\n",
       "City                      0\n",
       "Latitude                  0\n",
       "Longitude                 0\n",
       "dtype: int64"
      ]
     },
     "execution_count": 4,
     "metadata": {},
     "output_type": "execute_result"
    }
   ],
   "source": [
    "df = df.dropna()\n",
    "df.isna().sum()"
   ]
  },
  {
   "cell_type": "code",
   "execution_count": 5,
   "id": "bf6bf894",
   "metadata": {
    "execution": {
     "iopub.execute_input": "2024-05-04T05:22:53.751698Z",
     "iopub.status.busy": "2024-05-04T05:22:53.750924Z",
     "iopub.status.idle": "2024-05-04T05:22:53.865564Z",
     "shell.execute_reply": "2024-05-04T05:22:53.864119Z"
    },
    "papermill": {
     "duration": 0.131846,
     "end_time": "2024-05-04T05:22:53.868387",
     "exception": false,
     "start_time": "2024-05-04T05:22:53.736541",
     "status": "completed"
    },
    "tags": []
   },
   "outputs": [
    {
     "data": {
      "text/plain": [
       "0"
      ]
     },
     "execution_count": 5,
     "metadata": {},
     "output_type": "execute_result"
    }
   ],
   "source": [
    "df.duplicated().sum()"
   ]
  },
  {
   "cell_type": "code",
   "execution_count": 6,
   "id": "956285f6",
   "metadata": {
    "execution": {
     "iopub.execute_input": "2024-05-04T05:22:53.898379Z",
     "iopub.status.busy": "2024-05-04T05:22:53.897873Z",
     "iopub.status.idle": "2024-05-04T05:22:53.916255Z",
     "shell.execute_reply": "2024-05-04T05:22:53.914565Z"
    },
    "papermill": {
     "duration": 0.036688,
     "end_time": "2024-05-04T05:22:53.919483",
     "exception": false,
     "start_time": "2024-05-04T05:22:53.882795",
     "status": "completed"
    },
    "tags": []
   },
   "outputs": [],
   "source": [
    "pre_df = df.copy()"
   ]
  },
  {
   "cell_type": "code",
   "execution_count": 7,
   "id": "4faaf6df",
   "metadata": {
    "execution": {
     "iopub.execute_input": "2024-05-04T05:22:53.948725Z",
     "iopub.status.busy": "2024-05-04T05:22:53.948265Z",
     "iopub.status.idle": "2024-05-04T05:22:53.973118Z",
     "shell.execute_reply": "2024-05-04T05:22:53.971402Z"
    },
    "papermill": {
     "duration": 0.042808,
     "end_time": "2024-05-04T05:22:53.976153",
     "exception": false,
     "start_time": "2024-05-04T05:22:53.933345",
     "status": "completed"
    },
    "tags": []
   },
   "outputs": [],
   "source": [
    "pre_df = pre_df.reset_index(drop=True)"
   ]
  },
  {
   "cell_type": "code",
   "execution_count": 8,
   "id": "d82fc085",
   "metadata": {
    "execution": {
     "iopub.execute_input": "2024-05-04T05:22:54.008463Z",
     "iopub.status.busy": "2024-05-04T05:22:54.006579Z",
     "iopub.status.idle": "2024-05-04T05:22:54.037776Z",
     "shell.execute_reply": "2024-05-04T05:22:54.036303Z"
    },
    "papermill": {
     "duration": 0.051053,
     "end_time": "2024-05-04T05:22:54.040677",
     "exception": false,
     "start_time": "2024-05-04T05:22:53.989624",
     "status": "completed"
    },
    "tags": []
   },
   "outputs": [
    {
     "data": {
      "text/html": [
       "<div>\n",
       "<style scoped>\n",
       "    .dataframe tbody tr th:only-of-type {\n",
       "        vertical-align: middle;\n",
       "    }\n",
       "\n",
       "    .dataframe tbody tr th {\n",
       "        vertical-align: top;\n",
       "    }\n",
       "\n",
       "    .dataframe thead th {\n",
       "        text-align: right;\n",
       "    }\n",
       "</style>\n",
       "<table border=\"1\" class=\"dataframe\">\n",
       "  <thead>\n",
       "    <tr style=\"text-align: right;\">\n",
       "      <th></th>\n",
       "      <th>Rent</th>\n",
       "      <th>Beds</th>\n",
       "      <th>Baths</th>\n",
       "      <th>Area_in_sqft</th>\n",
       "      <th>Rent_per_sqft</th>\n",
       "      <th>Age_of_listing_in_days</th>\n",
       "      <th>Latitude</th>\n",
       "      <th>Longitude</th>\n",
       "    </tr>\n",
       "  </thead>\n",
       "  <tbody>\n",
       "    <tr>\n",
       "      <th>0</th>\n",
       "      <td>124000</td>\n",
       "      <td>3</td>\n",
       "      <td>4</td>\n",
       "      <td>1785</td>\n",
       "      <td>69.467787</td>\n",
       "      <td>45</td>\n",
       "      <td>24.493598</td>\n",
       "      <td>54.407841</td>\n",
       "    </tr>\n",
       "    <tr>\n",
       "      <th>1</th>\n",
       "      <td>140000</td>\n",
       "      <td>3</td>\n",
       "      <td>4</td>\n",
       "      <td>1422</td>\n",
       "      <td>98.452883</td>\n",
       "      <td>44</td>\n",
       "      <td>24.494022</td>\n",
       "      <td>54.607372</td>\n",
       "    </tr>\n",
       "    <tr>\n",
       "      <th>2</th>\n",
       "      <td>99000</td>\n",
       "      <td>2</td>\n",
       "      <td>3</td>\n",
       "      <td>1314</td>\n",
       "      <td>75.342466</td>\n",
       "      <td>31</td>\n",
       "      <td>24.485931</td>\n",
       "      <td>54.600939</td>\n",
       "    </tr>\n",
       "    <tr>\n",
       "      <th>3</th>\n",
       "      <td>220000</td>\n",
       "      <td>3</td>\n",
       "      <td>4</td>\n",
       "      <td>3843</td>\n",
       "      <td>57.246942</td>\n",
       "      <td>57</td>\n",
       "      <td>24.493598</td>\n",
       "      <td>54.407841</td>\n",
       "    </tr>\n",
       "    <tr>\n",
       "      <th>4</th>\n",
       "      <td>350000</td>\n",
       "      <td>5</td>\n",
       "      <td>7</td>\n",
       "      <td>6860</td>\n",
       "      <td>51.020408</td>\n",
       "      <td>65</td>\n",
       "      <td>24.494022</td>\n",
       "      <td>54.607372</td>\n",
       "    </tr>\n",
       "    <tr>\n",
       "      <th>...</th>\n",
       "      <td>...</td>\n",
       "      <td>...</td>\n",
       "      <td>...</td>\n",
       "      <td>...</td>\n",
       "      <td>...</td>\n",
       "      <td>...</td>\n",
       "      <td>...</td>\n",
       "      <td>...</td>\n",
       "    </tr>\n",
       "    <tr>\n",
       "      <th>73018</th>\n",
       "      <td>10000</td>\n",
       "      <td>0</td>\n",
       "      <td>1</td>\n",
       "      <td>249</td>\n",
       "      <td>40.160643</td>\n",
       "      <td>134</td>\n",
       "      <td>25.493412</td>\n",
       "      <td>55.575994</td>\n",
       "    </tr>\n",
       "    <tr>\n",
       "      <th>73019</th>\n",
       "      <td>25000</td>\n",
       "      <td>1</td>\n",
       "      <td>1</td>\n",
       "      <td>500</td>\n",
       "      <td>50.000000</td>\n",
       "      <td>142</td>\n",
       "      <td>25.511461</td>\n",
       "      <td>55.578804</td>\n",
       "    </tr>\n",
       "    <tr>\n",
       "      <th>73020</th>\n",
       "      <td>22000</td>\n",
       "      <td>2</td>\n",
       "      <td>2</td>\n",
       "      <td>1000</td>\n",
       "      <td>22.000000</td>\n",
       "      <td>26</td>\n",
       "      <td>25.527959</td>\n",
       "      <td>55.606527</td>\n",
       "    </tr>\n",
       "    <tr>\n",
       "      <th>73021</th>\n",
       "      <td>14000</td>\n",
       "      <td>0</td>\n",
       "      <td>1</td>\n",
       "      <td>419</td>\n",
       "      <td>33.412888</td>\n",
       "      <td>129</td>\n",
       "      <td>25.493412</td>\n",
       "      <td>55.575994</td>\n",
       "    </tr>\n",
       "    <tr>\n",
       "      <th>73022</th>\n",
       "      <td>14000</td>\n",
       "      <td>0</td>\n",
       "      <td>1</td>\n",
       "      <td>500</td>\n",
       "      <td>28.000000</td>\n",
       "      <td>129</td>\n",
       "      <td>25.527959</td>\n",
       "      <td>55.606527</td>\n",
       "    </tr>\n",
       "  </tbody>\n",
       "</table>\n",
       "<p>73023 rows × 8 columns</p>\n",
       "</div>"
      ],
      "text/plain": [
       "         Rent  Beds  Baths  Area_in_sqft  Rent_per_sqft  \\\n",
       "0      124000     3      4          1785      69.467787   \n",
       "1      140000     3      4          1422      98.452883   \n",
       "2       99000     2      3          1314      75.342466   \n",
       "3      220000     3      4          3843      57.246942   \n",
       "4      350000     5      7          6860      51.020408   \n",
       "...       ...   ...    ...           ...            ...   \n",
       "73018   10000     0      1           249      40.160643   \n",
       "73019   25000     1      1           500      50.000000   \n",
       "73020   22000     2      2          1000      22.000000   \n",
       "73021   14000     0      1           419      33.412888   \n",
       "73022   14000     0      1           500      28.000000   \n",
       "\n",
       "       Age_of_listing_in_days   Latitude  Longitude  \n",
       "0                          45  24.493598  54.407841  \n",
       "1                          44  24.494022  54.607372  \n",
       "2                          31  24.485931  54.600939  \n",
       "3                          57  24.493598  54.407841  \n",
       "4                          65  24.494022  54.607372  \n",
       "...                       ...        ...        ...  \n",
       "73018                     134  25.493412  55.575994  \n",
       "73019                     142  25.511461  55.578804  \n",
       "73020                      26  25.527959  55.606527  \n",
       "73021                     129  25.493412  55.575994  \n",
       "73022                     129  25.527959  55.606527  \n",
       "\n",
       "[73023 rows x 8 columns]"
      ]
     },
     "execution_count": 8,
     "metadata": {},
     "output_type": "execute_result"
    }
   ],
   "source": [
    "int_columns = pre_df.select_dtypes(include=['int64', 'float64']).columns.tolist()\n",
    "pre_df = pre_df[int_columns]\n",
    "pre_df"
   ]
  },
  {
   "cell_type": "code",
   "execution_count": 9,
   "id": "3c426000",
   "metadata": {
    "execution": {
     "iopub.execute_input": "2024-05-04T05:22:54.071024Z",
     "iopub.status.busy": "2024-05-04T05:22:54.070538Z",
     "iopub.status.idle": "2024-05-04T05:22:56.047720Z",
     "shell.execute_reply": "2024-05-04T05:22:56.046429Z"
    },
    "papermill": {
     "duration": 1.995967,
     "end_time": "2024-05-04T05:22:56.050546",
     "exception": false,
     "start_time": "2024-05-04T05:22:54.054579",
     "status": "completed"
    },
    "tags": []
   },
   "outputs": [
    {
     "data": {
      "text/plain": [
       "array([[<Axes: title={'center': 'Rent'}>,\n",
       "        <Axes: title={'center': 'Beds'}>,\n",
       "        <Axes: title={'center': 'Baths'}>],\n",
       "       [<Axes: title={'center': 'Area_in_sqft'}>,\n",
       "        <Axes: title={'center': 'Rent_per_sqft'}>,\n",
       "        <Axes: title={'center': 'Age_of_listing_in_days'}>],\n",
       "       [<Axes: title={'center': 'Latitude'}>,\n",
       "        <Axes: title={'center': 'Longitude'}>, <Axes: >]], dtype=object)"
      ]
     },
     "execution_count": 9,
     "metadata": {},
     "output_type": "execute_result"
    },
    {
     "data": {
      "image/png": "[encoded data removed]",
      "text/plain": [
       "<Figure size 1000x1000 with 9 Axes>"
      ]
     },
     "metadata": {},
     "output_type": "display_data"
    }
   ],
   "source": [
    "pre_df.hist(figsize=(10,10))"
   ]
  },
  {
   "cell_type": "code",
   "execution_count": 10,
   "id": "ebf838f3",
   "metadata": {
    "execution": {
     "iopub.execute_input": "2024-05-04T05:22:56.084124Z",
     "iopub.status.busy": "2024-05-04T05:22:56.083596Z",
     "iopub.status.idle": "2024-05-04T05:22:56.097940Z",
     "shell.execute_reply": "2024-05-04T05:22:56.096376Z"
    },
    "papermill": {
     "duration": 0.03444,
     "end_time": "2024-05-04T05:22:56.100736",
     "exception": false,
     "start_time": "2024-05-04T05:22:56.066296",
     "status": "completed"
    },
    "tags": []
   },
   "outputs": [
    {
     "data": {
      "text/plain": [
       "Rent\n",
       "120000    1654\n",
       "75000     1619\n",
       "150000    1615\n",
       "110000    1549\n",
       "85000     1465\n",
       "          ... \n",
       "69950        1\n",
       "164778       1\n",
       "128999       1\n",
       "179779       1\n",
       "48997        1\n",
       "Name: count, Length: 2094, dtype: int64"
      ]
     },
     "execution_count": 10,
     "metadata": {},
     "output_type": "execute_result"
    }
   ],
   "source": [
    "pre_df.Rent.value_counts()"
   ]
  },
  {
   "cell_type": "code",
   "execution_count": 11,
   "id": "ca9e0de5",
   "metadata": {
    "execution": {
     "iopub.execute_input": "2024-05-04T05:22:56.136281Z",
     "iopub.status.busy": "2024-05-04T05:22:56.135506Z",
     "iopub.status.idle": "2024-05-04T05:22:58.377860Z",
     "shell.execute_reply": "2024-05-04T05:22:58.375526Z"
    },
    "papermill": {
     "duration": 2.264418,
     "end_time": "2024-05-04T05:22:58.381017",
     "exception": false,
     "start_time": "2024-05-04T05:22:56.116599",
     "status": "completed"
    },
    "tags": []
   },
   "outputs": [
    {
     "data": {
      "text/html": [
       "<style>#sk-container-id-1 {color: black;background-color: white;}#sk-container-id-1 pre{padding: 0;}#sk-container-id-1 div.sk-toggleable {background-color: white;}#sk-container-id-1 label.sk-toggleable__label {cursor: pointer;display: block;width: 100%;margin-bottom: 0;padding: 0.3em;box-sizing: border-box;text-align: center;}#sk-container-id-1 label.sk-toggleable__label-arrow:before {content: \"▸\";float: left;margin-right: 0.25em;color: #696969;}#sk-container-id-1 label.sk-toggleable__label-arrow:hover:before {color: black;}#sk-container-id-1 div.sk-estimator:hover label.sk-toggleable__label-arrow:before {color: black;}#sk-container-id-1 div.sk-toggleable__content {max-height: 0;max-width: 0;overflow: hidden;text-align: left;background-color: #f0f8ff;}#sk-container-id-1 div.sk-toggleable__content pre {margin: 0.2em;color: black;border-radius: 0.25em;background-color: #f0f8ff;}#sk-container-id-1 input.sk-toggleable__control:checked~div.sk-toggleable__content {max-height: 200px;max-width: 100%;overflow: auto;}#sk-container-id-1 input.sk-toggleable__control:checked~label.sk-toggleable__label-arrow:before {content: \"▾\";}#sk-container-id-1 div.sk-estimator input.sk-toggleable__control:checked~label.sk-toggleable__label {background-color: #d4ebff;}#sk-container-id-1 div.sk-label input.sk-toggleable__control:checked~label.sk-toggleable__label {background-color: #d4ebff;}#sk-container-id-1 input.sk-hidden--visually {border: 0;clip: rect(1px 1px 1px 1px);clip: rect(1px, 1px, 1px, 1px);height: 1px;margin: -1px;overflow: hidden;padding: 0;position: absolute;width: 1px;}#sk-container-id-1 div.sk-estimator {font-family: monospace;background-color: #f0f8ff;border: 1px dotted black;border-radius: 0.25em;box-sizing: border-box;margin-bottom: 0.5em;}#sk-container-id-1 div.sk-estimator:hover {background-color: #d4ebff;}#sk-container-id-1 div.sk-parallel-item::after {content: \"\";width: 100%;border-bottom: 1px solid gray;flex-grow: 1;}#sk-container-id-1 div.sk-label:hover label.sk-toggleable__label {background-color: #d4ebff;}#sk-container-id-1 div.sk-serial::before {content: \"\";position: absolute;border-left: 1px solid gray;box-sizing: border-box;top: 0;bottom: 0;left: 50%;z-index: 0;}#sk-container-id-1 div.sk-serial {display: flex;flex-direction: column;align-items: center;background-color: white;padding-right: 0.2em;padding-left: 0.2em;position: relative;}#sk-container-id-1 div.sk-item {position: relative;z-index: 1;}#sk-container-id-1 div.sk-parallel {display: flex;align-items: stretch;justify-content: center;background-color: white;position: relative;}#sk-container-id-1 div.sk-item::before, #sk-container-id-1 div.sk-parallel-item::before {content: \"\";position: absolute;border-left: 1px solid gray;box-sizing: border-box;top: 0;bottom: 0;left: 50%;z-index: -1;}#sk-container-id-1 div.sk-parallel-item {display: flex;flex-direction: column;z-index: 1;position: relative;background-color: white;}#sk-container-id-1 div.sk-parallel-item:first-child::after {align-self: flex-end;width: 50%;}#sk-container-id-1 div.sk-parallel-item:last-child::after {align-self: flex-start;width: 50%;}#sk-container-id-1 div.sk-parallel-item:only-child::after {width: 0;}#sk-container-id-1 div.sk-dashed-wrapped {border: 1px dashed gray;margin: 0 0.4em 0.5em 0.4em;box-sizing: border-box;padding-bottom: 0.4em;background-color: white;}#sk-container-id-1 div.sk-label label {font-family: monospace;font-weight: bold;display: inline-block;line-height: 1.2em;}#sk-container-id-1 div.sk-label-container {text-align: center;}#sk-container-id-1 div.sk-container {/* jupyter's `normalize.less` sets `[hidden] { display: none; }` but bootstrap.min.css set `[hidden] { display: none !important; }` so we also need the `!important` here to be able to override the default hidden behavior on the sphinx rendered scikit-learn.org. See: https://github.com/scikit-learn/scikit-learn/issues/21755 */display: inline-block !important;position: relative;}#sk-container-id-1 div.sk-text-repr-fallback {display: none;}</style><div id=\"sk-container-id-1\" class=\"sk-top-container\"><div class=\"sk-text-repr-fallback\"><pre>LinearRegression()</pre><b>In a Jupyter environment, please rerun this cell to show the HTML representation or trust the notebook. <br />On GitHub, the HTML representation is unable to render, please try loading this page with nbviewer.org.</b></div><div class=\"sk-container\" hidden><div class=\"sk-item\"><div class=\"sk-estimator sk-toggleable\"><input class=\"sk-toggleable__control sk-hidden--visually\" id=\"sk-estimator-id-1\" type=\"checkbox\" checked><label for=\"sk-estimator-id-1\" class=\"sk-toggleable__label sk-toggleable__label-arrow\">LinearRegression</label><div class=\"sk-toggleable__content\"><pre>LinearRegression()</pre></div></div></div></div></div>"
      ],
      "text/plain": [
       "LinearRegression()"
      ]
     },
     "execution_count": 11,
     "metadata": {},
     "output_type": "execute_result"
    }
   ],
   "source": [
    "from sklearn.model_selection import train_test_split\n",
    "from sklearn.linear_model import LinearRegression\n",
    "\n",
    "features, targets = pre_df.iloc[:,1:], pre_df.iloc[:,0]\n",
    "\n",
    "X_train, X_test, y_train, y_test = \\\n",
    "train_test_split(features, targets, random_state=105, test_size=0.2)\n",
    "\n",
    "l_r = LinearRegression()\n",
    "l_r.fit(X_train, y_train)"
   ]
  },
  {
   "cell_type": "code",
   "execution_count": 12,
   "id": "275cdcc1",
   "metadata": {
    "execution": {
     "iopub.execute_input": "2024-05-04T05:22:58.416977Z",
     "iopub.status.busy": "2024-05-04T05:22:58.416539Z",
     "iopub.status.idle": "2024-05-04T05:22:58.426855Z",
     "shell.execute_reply": "2024-05-04T05:22:58.424733Z"
    },
    "papermill": {
     "duration": 0.032002,
     "end_time": "2024-05-04T05:22:58.429981",
     "exception": false,
     "start_time": "2024-05-04T05:22:58.397979",
     "status": "completed"
    },
    "tags": []
   },
   "outputs": [],
   "source": [
    "import numpy as np\n",
    "from sklearn.metrics import r2_score, mean_squared_error, mean_squared_log_error\n",
    "\n",
    "def get_evaluation(y_test, prediction) :\n",
    "    MSE = mean_squared_error(y_test, prediction)\n",
    "    RMSE = np.sqrt(MSE)\n",
    "#     MSLE = mean_squared_log_error(y_test, prediction)\n",
    "#     RMSE = np.sqrt(mean_squared_log_error(y_test, prediction))\n",
    "    R2 = r2_score(y_test, prediction)\n",
    "    print('MSE: {:.4f}, RMSE: {:.4f}, R2: {:.4f}'\\\n",
    "          .format(MSE, RMSE, R2))"
   ]
  },
  {
   "cell_type": "code",
   "execution_count": 13,
   "id": "b03231b9",
   "metadata": {
    "execution": {
     "iopub.execute_input": "2024-05-04T05:22:58.464257Z",
     "iopub.status.busy": "2024-05-04T05:22:58.463660Z",
     "iopub.status.idle": "2024-05-04T05:22:58.483789Z",
     "shell.execute_reply": "2024-05-04T05:22:58.481205Z"
    },
    "papermill": {
     "duration": 0.046296,
     "end_time": "2024-05-04T05:22:58.492090",
     "exception": false,
     "start_time": "2024-05-04T05:22:58.445794",
     "status": "completed"
    },
    "tags": []
   },
   "outputs": [],
   "source": [
    "prediction = l_r.predict(X_test)"
   ]
  },
  {
   "cell_type": "code",
   "execution_count": 14,
   "id": "11d6cfcd",
   "metadata": {
    "execution": {
     "iopub.execute_input": "2024-05-04T05:22:58.578559Z",
     "iopub.status.busy": "2024-05-04T05:22:58.577410Z",
     "iopub.status.idle": "2024-05-04T05:22:58.595554Z",
     "shell.execute_reply": "2024-05-04T05:22:58.593549Z"
    },
    "papermill": {
     "duration": 0.063279,
     "end_time": "2024-05-04T05:22:58.599631",
     "exception": false,
     "start_time": "2024-05-04T05:22:58.536352",
     "status": "completed"
    },
    "tags": []
   },
   "outputs": [
    {
     "name": "stdout",
     "output_type": "stream",
     "text": [
      "MSE: 28012732899.5329, RMSE: 167370.0478, R2: 0.4876\n"
     ]
    }
   ],
   "source": [
    "get_evaluation(y_test, prediction)"
   ]
  },
  {
   "cell_type": "code",
   "execution_count": 15,
   "id": "bdc551e2",
   "metadata": {
    "execution": {
     "iopub.execute_input": "2024-05-04T05:22:58.642159Z",
     "iopub.status.busy": "2024-05-04T05:22:58.641426Z",
     "iopub.status.idle": "2024-05-04T05:23:37.911646Z",
     "shell.execute_reply": "2024-05-04T05:23:37.910299Z"
    },
    "papermill": {
     "duration": 39.294781,
     "end_time": "2024-05-04T05:23:37.914588",
     "exception": false,
     "start_time": "2024-05-04T05:22:58.619807",
     "status": "completed"
    },
    "tags": []
   },
   "outputs": [
    {
     "name": "stdout",
     "output_type": "stream",
     "text": [
      "DecisionTreeRegressor\n",
      "MSE: 1916238011.9176, RMSE: 43774.8559, R2: 0.9650\n",
      "RandomForestRegressor\n",
      "MSE: 11427435269.5240, RMSE: 106899.1827, R2: 0.7910\n",
      "GradientBoostingRegressor\n",
      "MSE: 5272110091.2269, RMSE: 72609.2976, R2: 0.9036\n",
      "XGBRegressor\n",
      "MSE: 2755612438.2548, RMSE: 52493.9276, R2: 0.9496\n",
      "[LightGBM] [Info] Auto-choosing row-wise multi-threading, the overhead of testing was 0.006618 seconds.\n",
      "You can set `force_row_wise=true` to remove the overhead.\n",
      "And if memory is not enough, you can set `force_col_wise=true`.\n",
      "[LightGBM] [Info] Total Bins 1233\n",
      "[LightGBM] [Info] Number of data points in the train set: 58418, number of used features: 7\n",
      "[LightGBM] [Info] Start training from score 148639.264747\n",
      "LGBMRegressor\n",
      "MSE: 3707505256.5416, RMSE: 60889.2869, R2: 0.9322\n"
     ]
    }
   ],
   "source": [
    "from sklearn.model_selection import train_test_split\n",
    "from sklearn.tree import DecisionTreeRegressor\n",
    "from sklearn.ensemble import RandomForestRegressor, GradientBoostingRegressor\n",
    "from xgboost import XGBRegressor\n",
    "from lightgbm import LGBMRegressor\n",
    "\n",
    "features, targets = pre_df.iloc[:,1:], pre_df.iloc[:, 0]\n",
    "\n",
    "X_train, X_test, y_train, y_test = \\\n",
    "train_test_split(features, targets, test_size=0.2, random_state=105)\n",
    "\n",
    "dt_r = DecisionTreeRegressor(random_state=105)\n",
    "rf_r = RandomForestRegressor(random_state=105, n_estimators=100)\n",
    "gb_r = GradientBoostingRegressor(random_state=105)\n",
    "xgb_r = XGBRegressor()\n",
    "lgb_r = LGBMRegressor(n_estimators=100)\n",
    "\n",
    "models = [dt_r, rf_r, gb_r, xgb_r, lgb_r]\n",
    "for model in models:\n",
    "    model.fit(X_train, y_train)\n",
    "    prediction = model.predict(X_test)\n",
    "    print(model.__class__.__name__)\n",
    "    get_evaluation(y_test, prediction)"
   ]
  },
  {
   "cell_type": "code",
   "execution_count": 16,
   "id": "985efe23",
   "metadata": {
    "execution": {
     "iopub.execute_input": "2024-05-04T05:23:37.951369Z",
     "iopub.status.busy": "2024-05-04T05:23:37.950043Z",
     "iopub.status.idle": "2024-05-04T05:23:40.264751Z",
     "shell.execute_reply": "2024-05-04T05:23:40.263439Z"
    },
    "papermill": {
     "duration": 2.337965,
     "end_time": "2024-05-04T05:23:40.268746",
     "exception": false,
     "start_time": "2024-05-04T05:23:37.930781",
     "status": "completed"
    },
    "tags": []
   },
   "outputs": [
    {
     "data": {
      "text/html": [
       "<style>#sk-container-id-2 {color: black;background-color: white;}#sk-container-id-2 pre{padding: 0;}#sk-container-id-2 div.sk-toggleable {background-color: white;}#sk-container-id-2 label.sk-toggleable__label {cursor: pointer;display: block;width: 100%;margin-bottom: 0;padding: 0.3em;box-sizing: border-box;text-align: center;}#sk-container-id-2 label.sk-toggleable__label-arrow:before {content: \"▸\";float: left;margin-right: 0.25em;color: #696969;}#sk-container-id-2 label.sk-toggleable__label-arrow:hover:before {color: black;}#sk-container-id-2 div.sk-estimator:hover label.sk-toggleable__label-arrow:before {color: black;}#sk-container-id-2 div.sk-toggleable__content {max-height: 0;max-width: 0;overflow: hidden;text-align: left;background-color: #f0f8ff;}#sk-container-id-2 div.sk-toggleable__content pre {margin: 0.2em;color: black;border-radius: 0.25em;background-color: #f0f8ff;}#sk-container-id-2 input.sk-toggleable__control:checked~div.sk-toggleable__content {max-height: 200px;max-width: 100%;overflow: auto;}#sk-container-id-2 input.sk-toggleable__control:checked~label.sk-toggleable__label-arrow:before {content: \"▾\";}#sk-container-id-2 div.sk-estimator input.sk-toggleable__control:checked~label.sk-toggleable__label {background-color: #d4ebff;}#sk-container-id-2 div.sk-label input.sk-toggleable__control:checked~label.sk-toggleable__label {background-color: #d4ebff;}#sk-container-id-2 input.sk-hidden--visually {border: 0;clip: rect(1px 1px 1px 1px);clip: rect(1px, 1px, 1px, 1px);height: 1px;margin: -1px;overflow: hidden;padding: 0;position: absolute;width: 1px;}#sk-container-id-2 div.sk-estimator {font-family: monospace;background-color: #f0f8ff;border: 1px dotted black;border-radius: 0.25em;box-sizing: border-box;margin-bottom: 0.5em;}#sk-container-id-2 div.sk-estimator:hover {background-color: #d4ebff;}#sk-container-id-2 div.sk-parallel-item::after {content: \"\";width: 100%;border-bottom: 1px solid gray;flex-grow: 1;}#sk-container-id-2 div.sk-label:hover label.sk-toggleable__label {background-color: #d4ebff;}#sk-container-id-2 div.sk-serial::before {content: \"\";position: absolute;border-left: 1px solid gray;box-sizing: border-box;top: 0;bottom: 0;left: 50%;z-index: 0;}#sk-container-id-2 div.sk-serial {display: flex;flex-direction: column;align-items: center;background-color: white;padding-right: 0.2em;padding-left: 0.2em;position: relative;}#sk-container-id-2 div.sk-item {position: relative;z-index: 1;}#sk-container-id-2 div.sk-parallel {display: flex;align-items: stretch;justify-content: center;background-color: white;position: relative;}#sk-container-id-2 div.sk-item::before, #sk-container-id-2 div.sk-parallel-item::before {content: \"\";position: absolute;border-left: 1px solid gray;box-sizing: border-box;top: 0;bottom: 0;left: 50%;z-index: -1;}#sk-container-id-2 div.sk-parallel-item {display: flex;flex-direction: column;z-index: 1;position: relative;background-color: white;}#sk-container-id-2 div.sk-parallel-item:first-child::after {align-self: flex-end;width: 50%;}#sk-container-id-2 div.sk-parallel-item:last-child::after {align-self: flex-start;width: 50%;}#sk-container-id-2 div.sk-parallel-item:only-child::after {width: 0;}#sk-container-id-2 div.sk-dashed-wrapped {border: 1px dashed gray;margin: 0 0.4em 0.5em 0.4em;box-sizing: border-box;padding-bottom: 0.4em;background-color: white;}#sk-container-id-2 div.sk-label label {font-family: monospace;font-weight: bold;display: inline-block;line-height: 1.2em;}#sk-container-id-2 div.sk-label-container {text-align: center;}#sk-container-id-2 div.sk-container {/* jupyter's `normalize.less` sets `[hidden] { display: none; }` but bootstrap.min.css set `[hidden] { display: none !important; }` so we also need the `!important` here to be able to override the default hidden behavior on the sphinx rendered scikit-learn.org. See: https://github.com/scikit-learn/scikit-learn/issues/21755 */display: inline-block !important;position: relative;}#sk-container-id-2 div.sk-text-repr-fallback {display: none;}</style><div id=\"sk-container-id-2\" class=\"sk-top-container\"><div class=\"sk-text-repr-fallback\"><pre>LinearRegression()</pre><b>In a Jupyter environment, please rerun this cell to show the HTML representation or trust the notebook. <br />On GitHub, the HTML representation is unable to render, please try loading this page with nbviewer.org.</b></div><div class=\"sk-container\" hidden><div class=\"sk-item\"><div class=\"sk-estimator sk-toggleable\"><input class=\"sk-toggleable__control sk-hidden--visually\" id=\"sk-estimator-id-2\" type=\"checkbox\" checked><label for=\"sk-estimator-id-2\" class=\"sk-toggleable__label sk-toggleable__label-arrow\">LinearRegression</label><div class=\"sk-toggleable__content\"><pre>LinearRegression()</pre></div></div></div></div></div>"
      ],
      "text/plain": [
       "LinearRegression()"
      ]
     },
     "execution_count": 16,
     "metadata": {},
     "output_type": "execute_result"
    }
   ],
   "source": [
    "from sklearn.preprocessing import PolynomialFeatures\n",
    "\n",
    "poly_features = PolynomialFeatures(degree=4).fit_transform(features)\n",
    "\n",
    "features, targets = pre_df.iloc[:,1:], pre_df.iloc[:, 0]\n",
    "\n",
    "X_train, X_test, y_train, y_test = \\\n",
    "train_test_split(poly_features, targets, test_size=0.2, random_state=105)\n",
    "\n",
    "p_r = LinearRegression()\n",
    "p_r.fit(X_train, y_train)"
   ]
  },
  {
   "cell_type": "code",
   "execution_count": 17,
   "id": "4cabc767",
   "metadata": {
    "execution": {
     "iopub.execute_input": "2024-05-04T05:23:40.343502Z",
     "iopub.status.busy": "2024-05-04T05:23:40.342534Z",
     "iopub.status.idle": "2024-05-04T05:23:40.375035Z",
     "shell.execute_reply": "2024-05-04T05:23:40.373385Z"
    },
    "papermill": {
     "duration": 0.076575,
     "end_time": "2024-05-04T05:23:40.380233",
     "exception": false,
     "start_time": "2024-05-04T05:23:40.303658",
     "status": "completed"
    },
    "tags": []
   },
   "outputs": [
    {
     "name": "stdout",
     "output_type": "stream",
     "text": [
      "MSE: 1766815.0017, RMSE: 1329.2159, R2: 1.0000\n"
     ]
    }
   ],
   "source": [
    "prediction = p_r.predict(X_test)\n",
    "get_evaluation(y_test, prediction)"
   ]
  },
  {
   "cell_type": "markdown",
   "id": "3f214886",
   "metadata": {
    "papermill": {
     "duration": 0.035682,
     "end_time": "2024-05-04T05:23:40.452294",
     "exception": false,
     "start_time": "2024-05-04T05:23:40.416612",
     "status": "completed"
    },
    "tags": []
   },
   "source": [
    "### 💡 다항회귀 기법을 사용하였을 때 가장 높은 점수가 나왔다.\n",
    "#### 📌 비선형적인 데이터 패턴을 가지고 있음을 알 수 있다."
   ]
  },
  {
   "cell_type": "code",
   "execution_count": 18,
   "id": "0df7c531",
   "metadata": {
    "execution": {
     "iopub.execute_input": "2024-05-04T05:23:40.503055Z",
     "iopub.status.busy": "2024-05-04T05:23:40.502635Z",
     "iopub.status.idle": "2024-05-04T05:23:42.858343Z",
     "shell.execute_reply": "2024-05-04T05:23:42.856743Z"
    },
    "papermill": {
     "duration": 2.381455,
     "end_time": "2024-05-04T05:23:42.866030",
     "exception": false,
     "start_time": "2024-05-04T05:23:40.484575",
     "status": "completed"
    },
    "tags": []
   },
   "outputs": [
    {
     "name": "stdout",
     "output_type": "stream",
     "text": [
      "                                 OLS Regression Results                                \n",
      "=======================================================================================\n",
      "Dep. Variable:                   Rent   R-squared (uncentered):                   0.503\n",
      "Model:                            OLS   Adj. R-squared (uncentered):              0.503\n",
      "Method:                 Least Squares   F-statistic:                          1.055e+04\n",
      "Date:                Sat, 04 May 2024   Prob (F-statistic):                        0.00\n",
      "Time:                        05:23:42   Log-Likelihood:                     -1.0086e+06\n",
      "No. Observations:               73023   AIC:                                  2.017e+06\n",
      "Df Residuals:                   73016   BIC:                                  2.017e+06\n",
      "Df Model:                           7                                                  \n",
      "Covariance Type:            nonrobust                                                  \n",
      "==========================================================================================\n",
      "                             coef    std err          t      P>|t|      [0.025      0.975]\n",
      "------------------------------------------------------------------------------------------\n",
      "Beds                    6.613e+04    951.280     69.516      0.000    6.43e+04     6.8e+04\n",
      "Baths                  -4.939e+04    853.148    -57.891      0.000   -5.11e+04   -4.77e+04\n",
      "Area_in_sqft              40.6915      0.377    108.043      0.000      39.953      41.430\n",
      "Rent_per_sqft           1900.3235     14.020    135.548      0.000    1872.845    1927.802\n",
      "Age_of_listing_in_days    51.4788     12.486      4.123      0.000      27.007      75.951\n",
      "Latitude               -1.472e+04   2909.528     -5.061      0.000   -2.04e+04   -9021.285\n",
      "Longitude               4508.3658   1321.325      3.412      0.001    1918.574    7098.158\n",
      "==============================================================================\n",
      "Omnibus:                   302790.913   Durbin-Watson:                   1.975\n",
      "Prob(Omnibus):                  0.000   Jarque-Bera (JB):    1531667260506.063\n",
      "Skew:                         114.372   Prob(JB):                         0.00\n",
      "Kurtosis:                   22438.483   Cond. No.                     1.29e+04\n",
      "==============================================================================\n",
      "\n",
      "Notes:\n",
      "[1] R² is computed without centering (uncentered) since the model does not contain a constant.\n",
      "[2] Standard Errors assume that the covariance matrix of the errors is correctly specified.\n",
      "[3] The condition number is large, 1.29e+04. This might indicate that there are\n",
      "strong multicollinearity or other numerical problems.\n"
     ]
    }
   ],
   "source": [
    "from statsmodels.api import OLS\n",
    "\n",
    "features, targets = pre_df.iloc[:, 1:], pre_df.iloc[:, 0]\n",
    "\n",
    "model = OLS(targets, features)\n",
    "print(model.fit().summary())"
   ]
  },
  {
   "cell_type": "code",
   "execution_count": 19,
   "id": "c7a20aef",
   "metadata": {
    "execution": {
     "iopub.execute_input": "2024-05-04T05:23:42.958964Z",
     "iopub.status.busy": "2024-05-04T05:23:42.958276Z",
     "iopub.status.idle": "2024-05-04T05:23:42.978304Z",
     "shell.execute_reply": "2024-05-04T05:23:42.976433Z"
    },
    "papermill": {
     "duration": 0.073054,
     "end_time": "2024-05-04T05:23:42.981617",
     "exception": false,
     "start_time": "2024-05-04T05:23:42.908563",
     "status": "completed"
    },
    "tags": []
   },
   "outputs": [],
   "source": [
    "from statsmodels.stats.outliers_influence import variance_inflation_factor\n",
    "\n",
    "def get_vif(features):\n",
    "    vif = pd.DataFrame()\n",
    "    vif['vif_score'] = [variance_inflation_factor(features.values, i) for i in range(features.shape[1])]\n",
    "    vif['feature'] = features.columns\n",
    "    return vif"
   ]
  },
  {
   "cell_type": "code",
   "execution_count": 20,
   "id": "b889ae7e",
   "metadata": {
    "execution": {
     "iopub.execute_input": "2024-05-04T05:23:43.024941Z",
     "iopub.status.busy": "2024-05-04T05:23:43.024511Z",
     "iopub.status.idle": "2024-05-04T05:23:43.405561Z",
     "shell.execute_reply": "2024-05-04T05:23:43.403940Z"
    },
    "papermill": {
     "duration": 0.414865,
     "end_time": "2024-05-04T05:23:43.414539",
     "exception": false,
     "start_time": "2024-05-04T05:23:42.999674",
     "status": "completed"
    },
    "tags": []
   },
   "outputs": [
    {
     "data": {
      "text/html": [
       "<div>\n",
       "<style scoped>\n",
       "    .dataframe tbody tr th:only-of-type {\n",
       "        vertical-align: middle;\n",
       "    }\n",
       "\n",
       "    .dataframe tbody tr th {\n",
       "        vertical-align: top;\n",
       "    }\n",
       "\n",
       "    .dataframe thead th {\n",
       "        text-align: right;\n",
       "    }\n",
       "</style>\n",
       "<table border=\"1\" class=\"dataframe\">\n",
       "  <thead>\n",
       "    <tr style=\"text-align: right;\">\n",
       "      <th></th>\n",
       "      <th>vif_score</th>\n",
       "      <th>feature</th>\n",
       "    </tr>\n",
       "  </thead>\n",
       "  <tbody>\n",
       "    <tr>\n",
       "      <th>0</th>\n",
       "      <td>8.074916</td>\n",
       "      <td>Beds</td>\n",
       "    </tr>\n",
       "    <tr>\n",
       "      <th>1</th>\n",
       "      <td>8.759968</td>\n",
       "      <td>Baths</td>\n",
       "    </tr>\n",
       "    <tr>\n",
       "      <th>2</th>\n",
       "      <td>2.314279</td>\n",
       "      <td>Area_in_sqft</td>\n",
       "    </tr>\n",
       "    <tr>\n",
       "      <th>3</th>\n",
       "      <td>3.028440</td>\n",
       "      <td>Rent_per_sqft</td>\n",
       "    </tr>\n",
       "    <tr>\n",
       "      <th>4</th>\n",
       "      <td>2.077608</td>\n",
       "      <td>Age_of_listing_in_days</td>\n",
       "    </tr>\n",
       "    <tr>\n",
       "      <th>5</th>\n",
       "      <td>6600.102671</td>\n",
       "      <td>Latitude</td>\n",
       "    </tr>\n",
       "    <tr>\n",
       "      <th>6</th>\n",
       "      <td>6641.477570</td>\n",
       "      <td>Longitude</td>\n",
       "    </tr>\n",
       "  </tbody>\n",
       "</table>\n",
       "</div>"
      ],
      "text/plain": [
       "     vif_score                 feature\n",
       "0     8.074916                    Beds\n",
       "1     8.759968                   Baths\n",
       "2     2.314279            Area_in_sqft\n",
       "3     3.028440           Rent_per_sqft\n",
       "4     2.077608  Age_of_listing_in_days\n",
       "5  6600.102671                Latitude\n",
       "6  6641.477570               Longitude"
      ]
     },
     "execution_count": 20,
     "metadata": {},
     "output_type": "execute_result"
    }
   ],
   "source": [
    "get_vif(features)"
   ]
  },
  {
   "cell_type": "markdown",
   "id": "792a8ca0",
   "metadata": {
    "papermill": {
     "duration": 0.048534,
     "end_time": "2024-05-04T05:23:43.505536",
     "exception": false,
     "start_time": "2024-05-04T05:23:43.457002",
     "status": "completed"
    },
    "tags": []
   },
   "source": [
    "#### ✏️ Start Data Preprocessing "
   ]
  },
  {
   "cell_type": "code",
   "execution_count": 21,
   "id": "e2ffd4ad",
   "metadata": {
    "execution": {
     "iopub.execute_input": "2024-05-04T05:23:43.551601Z",
     "iopub.status.busy": "2024-05-04T05:23:43.551199Z",
     "iopub.status.idle": "2024-05-04T05:23:43.612473Z",
     "shell.execute_reply": "2024-05-04T05:23:43.611301Z"
    },
    "papermill": {
     "duration": 0.086867,
     "end_time": "2024-05-04T05:23:43.616800",
     "exception": false,
     "start_time": "2024-05-04T05:23:43.529933",
     "status": "completed"
    },
    "tags": []
   },
   "outputs": [
    {
     "data": {
      "text/html": [
       "<div>\n",
       "<style scoped>\n",
       "    .dataframe tbody tr th:only-of-type {\n",
       "        vertical-align: middle;\n",
       "    }\n",
       "\n",
       "    .dataframe tbody tr th {\n",
       "        vertical-align: top;\n",
       "    }\n",
       "\n",
       "    .dataframe thead th {\n",
       "        text-align: right;\n",
       "    }\n",
       "</style>\n",
       "<table border=\"1\" class=\"dataframe\">\n",
       "  <thead>\n",
       "    <tr style=\"text-align: right;\">\n",
       "      <th></th>\n",
       "      <th>count</th>\n",
       "      <th>mean</th>\n",
       "      <th>std</th>\n",
       "      <th>min</th>\n",
       "      <th>25%</th>\n",
       "      <th>50%</th>\n",
       "      <th>75%</th>\n",
       "      <th>max</th>\n",
       "    </tr>\n",
       "  </thead>\n",
       "  <tbody>\n",
       "    <tr>\n",
       "      <th>Rent</th>\n",
       "      <td>73023.0</td>\n",
       "      <td>148372.314463</td>\n",
       "      <td>308265.238177</td>\n",
       "      <td>0.000000</td>\n",
       "      <td>54999.000000</td>\n",
       "      <td>98000.000000</td>\n",
       "      <td>170000.000000</td>\n",
       "      <td>5.500000e+07</td>\n",
       "    </tr>\n",
       "    <tr>\n",
       "      <th>Beds</th>\n",
       "      <td>73023.0</td>\n",
       "      <td>2.154458</td>\n",
       "      <td>1.571260</td>\n",
       "      <td>0.000000</td>\n",
       "      <td>1.000000</td>\n",
       "      <td>2.000000</td>\n",
       "      <td>3.000000</td>\n",
       "      <td>1.200000e+01</td>\n",
       "    </tr>\n",
       "    <tr>\n",
       "      <th>Baths</th>\n",
       "      <td>73023.0</td>\n",
       "      <td>2.638771</td>\n",
       "      <td>1.620881</td>\n",
       "      <td>1.000000</td>\n",
       "      <td>2.000000</td>\n",
       "      <td>2.000000</td>\n",
       "      <td>3.000000</td>\n",
       "      <td>1.100000e+01</td>\n",
       "    </tr>\n",
       "    <tr>\n",
       "      <th>Area_in_sqft</th>\n",
       "      <td>73023.0</td>\n",
       "      <td>2035.634471</td>\n",
       "      <td>2976.159891</td>\n",
       "      <td>74.000000</td>\n",
       "      <td>850.000000</td>\n",
       "      <td>1329.000000</td>\n",
       "      <td>2101.000000</td>\n",
       "      <td>2.102540e+05</td>\n",
       "    </tr>\n",
       "    <tr>\n",
       "      <th>Rent_per_sqft</th>\n",
       "      <td>73023.0</td>\n",
       "      <td>88.537296</td>\n",
       "      <td>66.627532</td>\n",
       "      <td>0.000000</td>\n",
       "      <td>40.000000</td>\n",
       "      <td>71.813285</td>\n",
       "      <td>119.047619</td>\n",
       "      <td>2.182045e+03</td>\n",
       "    </tr>\n",
       "    <tr>\n",
       "      <th>Age_of_listing_in_days</th>\n",
       "      <td>73023.0</td>\n",
       "      <td>73.884735</td>\n",
       "      <td>71.837749</td>\n",
       "      <td>11.000000</td>\n",
       "      <td>30.000000</td>\n",
       "      <td>51.000000</td>\n",
       "      <td>95.000000</td>\n",
       "      <td>2.276000e+03</td>\n",
       "    </tr>\n",
       "    <tr>\n",
       "      <th>Latitude</th>\n",
       "      <td>73023.0</td>\n",
       "      <td>24.918929</td>\n",
       "      <td>0.569356</td>\n",
       "      <td>15.175847</td>\n",
       "      <td>24.493598</td>\n",
       "      <td>25.078641</td>\n",
       "      <td>25.197978</td>\n",
       "      <td>2.592031e+01</td>\n",
       "    </tr>\n",
       "    <tr>\n",
       "      <th>Longitude</th>\n",
       "      <td>73023.0</td>\n",
       "      <td>55.053133</td>\n",
       "      <td>0.653722</td>\n",
       "      <td>43.351928</td>\n",
       "      <td>54.607372</td>\n",
       "      <td>55.238209</td>\n",
       "      <td>55.367138</td>\n",
       "      <td>5.636129e+01</td>\n",
       "    </tr>\n",
       "  </tbody>\n",
       "</table>\n",
       "</div>"
      ],
      "text/plain": [
       "                          count           mean            std        min  \\\n",
       "Rent                    73023.0  148372.314463  308265.238177   0.000000   \n",
       "Beds                    73023.0       2.154458       1.571260   0.000000   \n",
       "Baths                   73023.0       2.638771       1.620881   1.000000   \n",
       "Area_in_sqft            73023.0    2035.634471    2976.159891  74.000000   \n",
       "Rent_per_sqft           73023.0      88.537296      66.627532   0.000000   \n",
       "Age_of_listing_in_days  73023.0      73.884735      71.837749  11.000000   \n",
       "Latitude                73023.0      24.918929       0.569356  15.175847   \n",
       "Longitude               73023.0      55.053133       0.653722  43.351928   \n",
       "\n",
       "                                 25%           50%            75%  \\\n",
       "Rent                    54999.000000  98000.000000  170000.000000   \n",
       "Beds                        1.000000      2.000000       3.000000   \n",
       "Baths                       2.000000      2.000000       3.000000   \n",
       "Area_in_sqft              850.000000   1329.000000    2101.000000   \n",
       "Rent_per_sqft              40.000000     71.813285     119.047619   \n",
       "Age_of_listing_in_days     30.000000     51.000000      95.000000   \n",
       "Latitude                   24.493598     25.078641      25.197978   \n",
       "Longitude                  54.607372     55.238209      55.367138   \n",
       "\n",
       "                                 max  \n",
       "Rent                    5.500000e+07  \n",
       "Beds                    1.200000e+01  \n",
       "Baths                   1.100000e+01  \n",
       "Area_in_sqft            2.102540e+05  \n",
       "Rent_per_sqft           2.182045e+03  \n",
       "Age_of_listing_in_days  2.276000e+03  \n",
       "Latitude                2.592031e+01  \n",
       "Longitude               5.636129e+01  "
      ]
     },
     "execution_count": 21,
     "metadata": {},
     "output_type": "execute_result"
    }
   ],
   "source": [
    "pre_df.describe().T"
   ]
  },
  {
   "cell_type": "code",
   "execution_count": 22,
   "id": "fdd43776",
   "metadata": {
    "execution": {
     "iopub.execute_input": "2024-05-04T05:23:43.675471Z",
     "iopub.status.busy": "2024-05-04T05:23:43.674680Z",
     "iopub.status.idle": "2024-05-04T05:23:43.691903Z",
     "shell.execute_reply": "2024-05-04T05:23:43.689791Z"
    },
    "papermill": {
     "duration": 0.054565,
     "end_time": "2024-05-04T05:23:43.694851",
     "exception": false,
     "start_time": "2024-05-04T05:23:43.640286",
     "status": "completed"
    },
    "tags": []
   },
   "outputs": [
    {
     "data": {
      "text/html": [
       "<div>\n",
       "<style scoped>\n",
       "    .dataframe tbody tr th:only-of-type {\n",
       "        vertical-align: middle;\n",
       "    }\n",
       "\n",
       "    .dataframe tbody tr th {\n",
       "        vertical-align: top;\n",
       "    }\n",
       "\n",
       "    .dataframe thead th {\n",
       "        text-align: right;\n",
       "    }\n",
       "</style>\n",
       "<table border=\"1\" class=\"dataframe\">\n",
       "  <thead>\n",
       "    <tr style=\"text-align: right;\">\n",
       "      <th></th>\n",
       "      <th>index</th>\n",
       "      <th>Rent</th>\n",
       "    </tr>\n",
       "  </thead>\n",
       "  <tbody>\n",
       "    <tr>\n",
       "      <th>0</th>\n",
       "      <td>0</td>\n",
       "      <td>124000</td>\n",
       "    </tr>\n",
       "    <tr>\n",
       "      <th>1</th>\n",
       "      <td>1</td>\n",
       "      <td>140000</td>\n",
       "    </tr>\n",
       "    <tr>\n",
       "      <th>2</th>\n",
       "      <td>2</td>\n",
       "      <td>99000</td>\n",
       "    </tr>\n",
       "    <tr>\n",
       "      <th>3</th>\n",
       "      <td>3</td>\n",
       "      <td>220000</td>\n",
       "    </tr>\n",
       "    <tr>\n",
       "      <th>4</th>\n",
       "      <td>4</td>\n",
       "      <td>350000</td>\n",
       "    </tr>\n",
       "    <tr>\n",
       "      <th>...</th>\n",
       "      <td>...</td>\n",
       "      <td>...</td>\n",
       "    </tr>\n",
       "    <tr>\n",
       "      <th>73018</th>\n",
       "      <td>73018</td>\n",
       "      <td>10000</td>\n",
       "    </tr>\n",
       "    <tr>\n",
       "      <th>73019</th>\n",
       "      <td>73019</td>\n",
       "      <td>25000</td>\n",
       "    </tr>\n",
       "    <tr>\n",
       "      <th>73020</th>\n",
       "      <td>73020</td>\n",
       "      <td>22000</td>\n",
       "    </tr>\n",
       "    <tr>\n",
       "      <th>73021</th>\n",
       "      <td>73021</td>\n",
       "      <td>14000</td>\n",
       "    </tr>\n",
       "    <tr>\n",
       "      <th>73022</th>\n",
       "      <td>73022</td>\n",
       "      <td>14000</td>\n",
       "    </tr>\n",
       "  </tbody>\n",
       "</table>\n",
       "<p>73023 rows × 2 columns</p>\n",
       "</div>"
      ],
      "text/plain": [
       "       index    Rent\n",
       "0          0  124000\n",
       "1          1  140000\n",
       "2          2   99000\n",
       "3          3  220000\n",
       "4          4  350000\n",
       "...      ...     ...\n",
       "73018  73018   10000\n",
       "73019  73019   25000\n",
       "73020  73020   22000\n",
       "73021  73021   14000\n",
       "73022  73022   14000\n",
       "\n",
       "[73023 rows x 2 columns]"
      ]
     },
     "execution_count": 22,
     "metadata": {},
     "output_type": "execute_result"
    }
   ],
   "source": [
    "rent_df = pre_df.loc[:,'Rent'].reset_index()\n",
    "rent_df"
   ]
  },
  {
   "cell_type": "code",
   "execution_count": 23,
   "id": "5bb6bb2b",
   "metadata": {
    "execution": {
     "iopub.execute_input": "2024-05-04T05:23:43.737639Z",
     "iopub.status.busy": "2024-05-04T05:23:43.737222Z",
     "iopub.status.idle": "2024-05-04T05:23:43.757593Z",
     "shell.execute_reply": "2024-05-04T05:23:43.756000Z"
    },
    "papermill": {
     "duration": 0.046175,
     "end_time": "2024-05-04T05:23:43.760789",
     "exception": false,
     "start_time": "2024-05-04T05:23:43.714614",
     "status": "completed"
    },
    "tags": []
   },
   "outputs": [
    {
     "data": {
      "text/plain": [
       "array([[-0.07906335],\n",
       "       [-0.02715964],\n",
       "       [-0.16016289],\n",
       "       ...,\n",
       "       [-0.4099495 ],\n",
       "       [-0.43590135],\n",
       "       [-0.43590135]])"
      ]
     },
     "execution_count": 23,
     "metadata": {},
     "output_type": "execute_result"
    }
   ],
   "source": [
    "from sklearn.preprocessing import StandardScaler\n",
    "\n",
    "std = StandardScaler()\n",
    "std_rent = std.fit_transform(rent_df[['Rent']])\n",
    "std_rent"
   ]
  },
  {
   "cell_type": "code",
   "execution_count": 24,
   "id": "4715b707",
   "metadata": {
    "execution": {
     "iopub.execute_input": "2024-05-04T05:23:43.803590Z",
     "iopub.status.busy": "2024-05-04T05:23:43.803132Z",
     "iopub.status.idle": "2024-05-04T05:23:43.819392Z",
     "shell.execute_reply": "2024-05-04T05:23:43.817055Z"
    },
    "papermill": {
     "duration": 0.043222,
     "end_time": "2024-05-04T05:23:43.823795",
     "exception": false,
     "start_time": "2024-05-04T05:23:43.780573",
     "status": "completed"
    },
    "tags": []
   },
   "outputs": [
    {
     "data": {
      "text/html": [
       "<div>\n",
       "<style scoped>\n",
       "    .dataframe tbody tr th:only-of-type {\n",
       "        vertical-align: middle;\n",
       "    }\n",
       "\n",
       "    .dataframe tbody tr th {\n",
       "        vertical-align: top;\n",
       "    }\n",
       "\n",
       "    .dataframe thead th {\n",
       "        text-align: right;\n",
       "    }\n",
       "</style>\n",
       "<table border=\"1\" class=\"dataframe\">\n",
       "  <thead>\n",
       "    <tr style=\"text-align: right;\">\n",
       "      <th></th>\n",
       "      <th>index</th>\n",
       "      <th>Rent</th>\n",
       "    </tr>\n",
       "  </thead>\n",
       "  <tbody>\n",
       "    <tr>\n",
       "      <th>0</th>\n",
       "      <td>0</td>\n",
       "      <td>-0.079063</td>\n",
       "    </tr>\n",
       "    <tr>\n",
       "      <th>1</th>\n",
       "      <td>1</td>\n",
       "      <td>-0.027160</td>\n",
       "    </tr>\n",
       "    <tr>\n",
       "      <th>2</th>\n",
       "      <td>2</td>\n",
       "      <td>-0.160163</td>\n",
       "    </tr>\n",
       "    <tr>\n",
       "      <th>3</th>\n",
       "      <td>3</td>\n",
       "      <td>0.232359</td>\n",
       "    </tr>\n",
       "    <tr>\n",
       "      <th>4</th>\n",
       "      <td>4</td>\n",
       "      <td>0.654077</td>\n",
       "    </tr>\n",
       "    <tr>\n",
       "      <th>...</th>\n",
       "      <td>...</td>\n",
       "      <td>...</td>\n",
       "    </tr>\n",
       "    <tr>\n",
       "      <th>73018</th>\n",
       "      <td>73018</td>\n",
       "      <td>-0.448877</td>\n",
       "    </tr>\n",
       "    <tr>\n",
       "      <th>73019</th>\n",
       "      <td>73019</td>\n",
       "      <td>-0.400218</td>\n",
       "    </tr>\n",
       "    <tr>\n",
       "      <th>73020</th>\n",
       "      <td>73020</td>\n",
       "      <td>-0.409949</td>\n",
       "    </tr>\n",
       "    <tr>\n",
       "      <th>73021</th>\n",
       "      <td>73021</td>\n",
       "      <td>-0.435901</td>\n",
       "    </tr>\n",
       "    <tr>\n",
       "      <th>73022</th>\n",
       "      <td>73022</td>\n",
       "      <td>-0.435901</td>\n",
       "    </tr>\n",
       "  </tbody>\n",
       "</table>\n",
       "<p>73023 rows × 2 columns</p>\n",
       "</div>"
      ],
      "text/plain": [
       "       index      Rent\n",
       "0          0 -0.079063\n",
       "1          1 -0.027160\n",
       "2          2 -0.160163\n",
       "3          3  0.232359\n",
       "4          4  0.654077\n",
       "...      ...       ...\n",
       "73018  73018 -0.448877\n",
       "73019  73019 -0.400218\n",
       "73020  73020 -0.409949\n",
       "73021  73021 -0.435901\n",
       "73022  73022 -0.435901\n",
       "\n",
       "[73023 rows x 2 columns]"
      ]
     },
     "execution_count": 24,
     "metadata": {},
     "output_type": "execute_result"
    }
   ],
   "source": [
    "rent_df['Rent'] = std_rent\n",
    "rent_df"
   ]
  },
  {
   "cell_type": "code",
   "execution_count": 25,
   "id": "1fdcbc9a",
   "metadata": {
    "execution": {
     "iopub.execute_input": "2024-05-04T05:23:43.865322Z",
     "iopub.status.busy": "2024-05-04T05:23:43.864900Z",
     "iopub.status.idle": "2024-05-04T05:23:43.884727Z",
     "shell.execute_reply": "2024-05-04T05:23:43.882106Z"
    },
    "papermill": {
     "duration": 0.043938,
     "end_time": "2024-05-04T05:23:43.887996",
     "exception": false,
     "start_time": "2024-05-04T05:23:43.844058",
     "status": "completed"
    },
    "tags": []
   },
   "outputs": [],
   "source": [
    "a1 = rent_df['Rent'] >= -1.96\n",
    "a2 = rent_df['Rent'] <= 1.96\n",
    "a = a1 & a2\n",
    "pre_df = pre_df.loc[pre_df[a].index].reset_index(drop=True)"
   ]
  },
  {
   "cell_type": "code",
   "execution_count": 26,
   "id": "70c16018",
   "metadata": {
    "execution": {
     "iopub.execute_input": "2024-05-04T05:23:43.929579Z",
     "iopub.status.busy": "2024-05-04T05:23:43.929159Z",
     "iopub.status.idle": "2024-05-04T05:23:43.952379Z",
     "shell.execute_reply": "2024-05-04T05:23:43.949894Z"
    },
    "papermill": {
     "duration": 0.049133,
     "end_time": "2024-05-04T05:23:43.956393",
     "exception": false,
     "start_time": "2024-05-04T05:23:43.907260",
     "status": "completed"
    },
    "tags": []
   },
   "outputs": [
    {
     "data": {
      "text/html": [
       "<div>\n",
       "<style scoped>\n",
       "    .dataframe tbody tr th:only-of-type {\n",
       "        vertical-align: middle;\n",
       "    }\n",
       "\n",
       "    .dataframe tbody tr th {\n",
       "        vertical-align: top;\n",
       "    }\n",
       "\n",
       "    .dataframe thead th {\n",
       "        text-align: right;\n",
       "    }\n",
       "</style>\n",
       "<table border=\"1\" class=\"dataframe\">\n",
       "  <thead>\n",
       "    <tr style=\"text-align: right;\">\n",
       "      <th></th>\n",
       "      <th>Rent</th>\n",
       "      <th>Beds</th>\n",
       "      <th>Baths</th>\n",
       "      <th>Area_in_sqft</th>\n",
       "      <th>Rent_per_sqft</th>\n",
       "      <th>Age_of_listing_in_days</th>\n",
       "      <th>Latitude</th>\n",
       "      <th>Longitude</th>\n",
       "    </tr>\n",
       "  </thead>\n",
       "  <tbody>\n",
       "    <tr>\n",
       "      <th>0</th>\n",
       "      <td>124000</td>\n",
       "      <td>3</td>\n",
       "      <td>4</td>\n",
       "      <td>1785</td>\n",
       "      <td>69.467787</td>\n",
       "      <td>45</td>\n",
       "      <td>24.493598</td>\n",
       "      <td>54.407841</td>\n",
       "    </tr>\n",
       "    <tr>\n",
       "      <th>1</th>\n",
       "      <td>140000</td>\n",
       "      <td>3</td>\n",
       "      <td>4</td>\n",
       "      <td>1422</td>\n",
       "      <td>98.452883</td>\n",
       "      <td>44</td>\n",
       "      <td>24.494022</td>\n",
       "      <td>54.607372</td>\n",
       "    </tr>\n",
       "    <tr>\n",
       "      <th>2</th>\n",
       "      <td>99000</td>\n",
       "      <td>2</td>\n",
       "      <td>3</td>\n",
       "      <td>1314</td>\n",
       "      <td>75.342466</td>\n",
       "      <td>31</td>\n",
       "      <td>24.485931</td>\n",
       "      <td>54.600939</td>\n",
       "    </tr>\n",
       "    <tr>\n",
       "      <th>3</th>\n",
       "      <td>220000</td>\n",
       "      <td>3</td>\n",
       "      <td>4</td>\n",
       "      <td>3843</td>\n",
       "      <td>57.246942</td>\n",
       "      <td>57</td>\n",
       "      <td>24.493598</td>\n",
       "      <td>54.407841</td>\n",
       "    </tr>\n",
       "    <tr>\n",
       "      <th>4</th>\n",
       "      <td>350000</td>\n",
       "      <td>5</td>\n",
       "      <td>7</td>\n",
       "      <td>6860</td>\n",
       "      <td>51.020408</td>\n",
       "      <td>65</td>\n",
       "      <td>24.494022</td>\n",
       "      <td>54.607372</td>\n",
       "    </tr>\n",
       "    <tr>\n",
       "      <th>...</th>\n",
       "      <td>...</td>\n",
       "      <td>...</td>\n",
       "      <td>...</td>\n",
       "      <td>...</td>\n",
       "      <td>...</td>\n",
       "      <td>...</td>\n",
       "      <td>...</td>\n",
       "      <td>...</td>\n",
       "    </tr>\n",
       "    <tr>\n",
       "      <th>71981</th>\n",
       "      <td>10000</td>\n",
       "      <td>0</td>\n",
       "      <td>1</td>\n",
       "      <td>249</td>\n",
       "      <td>40.160643</td>\n",
       "      <td>134</td>\n",
       "      <td>25.493412</td>\n",
       "      <td>55.575994</td>\n",
       "    </tr>\n",
       "    <tr>\n",
       "      <th>71982</th>\n",
       "      <td>25000</td>\n",
       "      <td>1</td>\n",
       "      <td>1</td>\n",
       "      <td>500</td>\n",
       "      <td>50.000000</td>\n",
       "      <td>142</td>\n",
       "      <td>25.511461</td>\n",
       "      <td>55.578804</td>\n",
       "    </tr>\n",
       "    <tr>\n",
       "      <th>71983</th>\n",
       "      <td>22000</td>\n",
       "      <td>2</td>\n",
       "      <td>2</td>\n",
       "      <td>1000</td>\n",
       "      <td>22.000000</td>\n",
       "      <td>26</td>\n",
       "      <td>25.527959</td>\n",
       "      <td>55.606527</td>\n",
       "    </tr>\n",
       "    <tr>\n",
       "      <th>71984</th>\n",
       "      <td>14000</td>\n",
       "      <td>0</td>\n",
       "      <td>1</td>\n",
       "      <td>419</td>\n",
       "      <td>33.412888</td>\n",
       "      <td>129</td>\n",
       "      <td>25.493412</td>\n",
       "      <td>55.575994</td>\n",
       "    </tr>\n",
       "    <tr>\n",
       "      <th>71985</th>\n",
       "      <td>14000</td>\n",
       "      <td>0</td>\n",
       "      <td>1</td>\n",
       "      <td>500</td>\n",
       "      <td>28.000000</td>\n",
       "      <td>129</td>\n",
       "      <td>25.527959</td>\n",
       "      <td>55.606527</td>\n",
       "    </tr>\n",
       "  </tbody>\n",
       "</table>\n",
       "<p>71986 rows × 8 columns</p>\n",
       "</div>"
      ],
      "text/plain": [
       "         Rent  Beds  Baths  Area_in_sqft  Rent_per_sqft  \\\n",
       "0      124000     3      4          1785      69.467787   \n",
       "1      140000     3      4          1422      98.452883   \n",
       "2       99000     2      3          1314      75.342466   \n",
       "3      220000     3      4          3843      57.246942   \n",
       "4      350000     5      7          6860      51.020408   \n",
       "...       ...   ...    ...           ...            ...   \n",
       "71981   10000     0      1           249      40.160643   \n",
       "71982   25000     1      1           500      50.000000   \n",
       "71983   22000     2      2          1000      22.000000   \n",
       "71984   14000     0      1           419      33.412888   \n",
       "71985   14000     0      1           500      28.000000   \n",
       "\n",
       "       Age_of_listing_in_days   Latitude  Longitude  \n",
       "0                          45  24.493598  54.407841  \n",
       "1                          44  24.494022  54.607372  \n",
       "2                          31  24.485931  54.600939  \n",
       "3                          57  24.493598  54.407841  \n",
       "4                          65  24.494022  54.607372  \n",
       "...                       ...        ...        ...  \n",
       "71981                     134  25.493412  55.575994  \n",
       "71982                     142  25.511461  55.578804  \n",
       "71983                      26  25.527959  55.606527  \n",
       "71984                     129  25.493412  55.575994  \n",
       "71985                     129  25.527959  55.606527  \n",
       "\n",
       "[71986 rows x 8 columns]"
      ]
     },
     "execution_count": 26,
     "metadata": {},
     "output_type": "execute_result"
    }
   ],
   "source": [
    "pre_df = pre_df.reset_index(drop=True)\n",
    "pre_df"
   ]
  },
  {
   "cell_type": "code",
   "execution_count": 27,
   "id": "8c1bee96",
   "metadata": {
    "execution": {
     "iopub.execute_input": "2024-05-04T05:23:43.998113Z",
     "iopub.status.busy": "2024-05-04T05:23:43.997384Z",
     "iopub.status.idle": "2024-05-04T05:23:44.354238Z",
     "shell.execute_reply": "2024-05-04T05:23:44.352583Z"
    },
    "papermill": {
     "duration": 0.380771,
     "end_time": "2024-05-04T05:23:44.357080",
     "exception": false,
     "start_time": "2024-05-04T05:23:43.976309",
     "status": "completed"
    },
    "tags": []
   },
   "outputs": [
    {
     "data": {
      "text/plain": [
       "<Axes: >"
      ]
     },
     "execution_count": 27,
     "metadata": {},
     "output_type": "execute_result"
    },
    {
     "data": {
      "image/png": "[encoded data removed]",
      "text/plain": [
       "<Figure size 640x480 with 1 Axes>"
      ]
     },
     "metadata": {},
     "output_type": "display_data"
    }
   ],
   "source": [
    "pre_df['Rent'].hist()"
   ]
  },
  {
   "cell_type": "code",
   "execution_count": 28,
   "id": "d80b6099",
   "metadata": {
    "execution": {
     "iopub.execute_input": "2024-05-04T05:23:44.400655Z",
     "iopub.status.busy": "2024-05-04T05:23:44.400226Z",
     "iopub.status.idle": "2024-05-04T05:23:44.448228Z",
     "shell.execute_reply": "2024-05-04T05:23:44.446529Z"
    },
    "papermill": {
     "duration": 0.073893,
     "end_time": "2024-05-04T05:23:44.451109",
     "exception": false,
     "start_time": "2024-05-04T05:23:44.377216",
     "status": "completed"
    },
    "tags": []
   },
   "outputs": [
    {
     "data": {
      "text/html": [
       "<style>#sk-container-id-3 {color: black;background-color: white;}#sk-container-id-3 pre{padding: 0;}#sk-container-id-3 div.sk-toggleable {background-color: white;}#sk-container-id-3 label.sk-toggleable__label {cursor: pointer;display: block;width: 100%;margin-bottom: 0;padding: 0.3em;box-sizing: border-box;text-align: center;}#sk-container-id-3 label.sk-toggleable__label-arrow:before {content: \"▸\";float: left;margin-right: 0.25em;color: #696969;}#sk-container-id-3 label.sk-toggleable__label-arrow:hover:before {color: black;}#sk-container-id-3 div.sk-estimator:hover label.sk-toggleable__label-arrow:before {color: black;}#sk-container-id-3 div.sk-toggleable__content {max-height: 0;max-width: 0;overflow: hidden;text-align: left;background-color: #f0f8ff;}#sk-container-id-3 div.sk-toggleable__content pre {margin: 0.2em;color: black;border-radius: 0.25em;background-color: #f0f8ff;}#sk-container-id-3 input.sk-toggleable__control:checked~div.sk-toggleable__content {max-height: 200px;max-width: 100%;overflow: auto;}#sk-container-id-3 input.sk-toggleable__control:checked~label.sk-toggleable__label-arrow:before {content: \"▾\";}#sk-container-id-3 div.sk-estimator input.sk-toggleable__control:checked~label.sk-toggleable__label {background-color: #d4ebff;}#sk-container-id-3 div.sk-label input.sk-toggleable__control:checked~label.sk-toggleable__label {background-color: #d4ebff;}#sk-container-id-3 input.sk-hidden--visually {border: 0;clip: rect(1px 1px 1px 1px);clip: rect(1px, 1px, 1px, 1px);height: 1px;margin: -1px;overflow: hidden;padding: 0;position: absolute;width: 1px;}#sk-container-id-3 div.sk-estimator {font-family: monospace;background-color: #f0f8ff;border: 1px dotted black;border-radius: 0.25em;box-sizing: border-box;margin-bottom: 0.5em;}#sk-container-id-3 div.sk-estimator:hover {background-color: #d4ebff;}#sk-container-id-3 div.sk-parallel-item::after {content: \"\";width: 100%;border-bottom: 1px solid gray;flex-grow: 1;}#sk-container-id-3 div.sk-label:hover label.sk-toggleable__label {background-color: #d4ebff;}#sk-container-id-3 div.sk-serial::before {content: \"\";position: absolute;border-left: 1px solid gray;box-sizing: border-box;top: 0;bottom: 0;left: 50%;z-index: 0;}#sk-container-id-3 div.sk-serial {display: flex;flex-direction: column;align-items: center;background-color: white;padding-right: 0.2em;padding-left: 0.2em;position: relative;}#sk-container-id-3 div.sk-item {position: relative;z-index: 1;}#sk-container-id-3 div.sk-parallel {display: flex;align-items: stretch;justify-content: center;background-color: white;position: relative;}#sk-container-id-3 div.sk-item::before, #sk-container-id-3 div.sk-parallel-item::before {content: \"\";position: absolute;border-left: 1px solid gray;box-sizing: border-box;top: 0;bottom: 0;left: 50%;z-index: -1;}#sk-container-id-3 div.sk-parallel-item {display: flex;flex-direction: column;z-index: 1;position: relative;background-color: white;}#sk-container-id-3 div.sk-parallel-item:first-child::after {align-self: flex-end;width: 50%;}#sk-container-id-3 div.sk-parallel-item:last-child::after {align-self: flex-start;width: 50%;}#sk-container-id-3 div.sk-parallel-item:only-child::after {width: 0;}#sk-container-id-3 div.sk-dashed-wrapped {border: 1px dashed gray;margin: 0 0.4em 0.5em 0.4em;box-sizing: border-box;padding-bottom: 0.4em;background-color: white;}#sk-container-id-3 div.sk-label label {font-family: monospace;font-weight: bold;display: inline-block;line-height: 1.2em;}#sk-container-id-3 div.sk-label-container {text-align: center;}#sk-container-id-3 div.sk-container {/* jupyter's `normalize.less` sets `[hidden] { display: none; }` but bootstrap.min.css set `[hidden] { display: none !important; }` so we also need the `!important` here to be able to override the default hidden behavior on the sphinx rendered scikit-learn.org. See: https://github.com/scikit-learn/scikit-learn/issues/21755 */display: inline-block !important;position: relative;}#sk-container-id-3 div.sk-text-repr-fallback {display: none;}</style><div id=\"sk-container-id-3\" class=\"sk-top-container\"><div class=\"sk-text-repr-fallback\"><pre>LinearRegression()</pre><b>In a Jupyter environment, please rerun this cell to show the HTML representation or trust the notebook. <br />On GitHub, the HTML representation is unable to render, please try loading this page with nbviewer.org.</b></div><div class=\"sk-container\" hidden><div class=\"sk-item\"><div class=\"sk-estimator sk-toggleable\"><input class=\"sk-toggleable__control sk-hidden--visually\" id=\"sk-estimator-id-3\" type=\"checkbox\" checked><label for=\"sk-estimator-id-3\" class=\"sk-toggleable__label sk-toggleable__label-arrow\">LinearRegression</label><div class=\"sk-toggleable__content\"><pre>LinearRegression()</pre></div></div></div></div></div>"
      ],
      "text/plain": [
       "LinearRegression()"
      ]
     },
     "execution_count": 28,
     "metadata": {},
     "output_type": "execute_result"
    }
   ],
   "source": [
    "from sklearn.model_selection import train_test_split\n",
    "from sklearn.linear_model import LinearRegression\n",
    "\n",
    "features, targets = pre_df.iloc[:,1:], pre_df.iloc[:,0]\n",
    "\n",
    "X_train, X_test, y_train, y_test = \\\n",
    "train_test_split(features, targets, random_state=105, test_size=0.2)\n",
    "\n",
    "l_r = LinearRegression()\n",
    "l_r.fit(X_train, y_train)"
   ]
  },
  {
   "cell_type": "code",
   "execution_count": 29,
   "id": "e0b2e7a3",
   "metadata": {
    "execution": {
     "iopub.execute_input": "2024-05-04T05:23:44.493803Z",
     "iopub.status.busy": "2024-05-04T05:23:44.493354Z",
     "iopub.status.idle": "2024-05-04T05:23:44.513920Z",
     "shell.execute_reply": "2024-05-04T05:23:44.511778Z"
    },
    "papermill": {
     "duration": 0.048587,
     "end_time": "2024-05-04T05:23:44.520106",
     "exception": false,
     "start_time": "2024-05-04T05:23:44.471519",
     "status": "completed"
    },
    "tags": []
   },
   "outputs": [
    {
     "name": "stdout",
     "output_type": "stream",
     "text": [
      "MSE: 2860442164.8775, RMSE: 53483.1017, R2: 0.7439\n"
     ]
    }
   ],
   "source": [
    "prediction = l_r.predict(X_test)\n",
    "get_evaluation(y_test, prediction)"
   ]
  },
  {
   "cell_type": "markdown",
   "id": "6d30bd7c",
   "metadata": {
    "papermill": {
     "duration": 0.038223,
     "end_time": "2024-05-04T05:23:44.625099",
     "exception": false,
     "start_time": "2024-05-04T05:23:44.586876",
     "status": "completed"
    },
    "tags": []
   },
   "source": [
    "### ✨ Better than before preprocessing"
   ]
  },
  {
   "cell_type": "code",
   "execution_count": 30,
   "id": "b56b9469",
   "metadata": {
    "execution": {
     "iopub.execute_input": "2024-05-04T05:23:44.667287Z",
     "iopub.status.busy": "2024-05-04T05:23:44.666892Z",
     "iopub.status.idle": "2024-05-04T05:24:18.507592Z",
     "shell.execute_reply": "2024-05-04T05:24:18.506162Z"
    },
    "papermill": {
     "duration": 33.866022,
     "end_time": "2024-05-04T05:24:18.510565",
     "exception": false,
     "start_time": "2024-05-04T05:23:44.644543",
     "status": "completed"
    },
    "tags": []
   },
   "outputs": [
    {
     "name": "stdout",
     "output_type": "stream",
     "text": [
      "DecisionTreeRegressor\n",
      "MSE: 45376225.7451, RMSE: 6736.1878, R2: 0.9959\n",
      "RandomForestRegressor\n",
      "MSE: 16486087.5907, RMSE: 4060.3063, R2: 0.9985\n",
      "GradientBoostingRegressor\n",
      "MSE: 88048954.3703, RMSE: 9383.4404, R2: 0.9921\n",
      "XGBRegressor\n",
      "MSE: 45604502.5577, RMSE: 6753.1106, R2: 0.9959\n",
      "[LightGBM] [Info] Auto-choosing col-wise multi-threading, the overhead of testing was 0.011051 seconds.\n",
      "You can set `force_col_wise=true` to remove the overhead.\n",
      "[LightGBM] [Info] Total Bins 1233\n",
      "[LightGBM] [Info] Number of data points in the train set: 57588, number of used features: 7\n",
      "[LightGBM] [Info] Start training from score 128232.096965\n",
      "LGBMRegressor\n",
      "MSE: 36133944.6867, RMSE: 6011.1517, R2: 0.9968\n"
     ]
    }
   ],
   "source": [
    "from sklearn.model_selection import train_test_split\n",
    "from sklearn.tree import DecisionTreeRegressor\n",
    "from sklearn.ensemble import RandomForestRegressor, GradientBoostingRegressor\n",
    "from xgboost import XGBRegressor\n",
    "from lightgbm import LGBMRegressor\n",
    "\n",
    "features, targets = pre_df.iloc[:,1:], pre_df.iloc[:, 0]\n",
    "\n",
    "X_train, X_test, y_train, y_test = \\\n",
    "train_test_split(features, targets, test_size=0.2, random_state=105)\n",
    "\n",
    "dt_r = DecisionTreeRegressor(random_state=105)\n",
    "rf_r = RandomForestRegressor(random_state=105, n_estimators=100)\n",
    "gb_r = GradientBoostingRegressor(random_state=105)\n",
    "xgb_r = XGBRegressor()\n",
    "lgb_r = LGBMRegressor(n_estimators=100)\n",
    "\n",
    "models = [dt_r, rf_r, gb_r, xgb_r, lgb_r]\n",
    "for model in models:\n",
    "    model.fit(X_train, y_train)\n",
    "    prediction = model.predict(X_test)\n",
    "    print(model.__class__.__name__)\n",
    "    get_evaluation(y_test, prediction)"
   ]
  },
  {
   "cell_type": "code",
   "execution_count": 31,
   "id": "bbcbc90f",
   "metadata": {
    "execution": {
     "iopub.execute_input": "2024-05-04T05:24:18.655144Z",
     "iopub.status.busy": "2024-05-04T05:24:18.653699Z",
     "iopub.status.idle": "2024-05-04T05:24:20.999259Z",
     "shell.execute_reply": "2024-05-04T05:24:20.997971Z"
    },
    "papermill": {
     "duration": 2.372238,
     "end_time": "2024-05-04T05:24:21.003404",
     "exception": false,
     "start_time": "2024-05-04T05:24:18.631166",
     "status": "completed"
    },
    "tags": []
   },
   "outputs": [
    {
     "data": {
      "text/html": [
       "<style>#sk-container-id-4 {color: black;background-color: white;}#sk-container-id-4 pre{padding: 0;}#sk-container-id-4 div.sk-toggleable {background-color: white;}#sk-container-id-4 label.sk-toggleable__label {cursor: pointer;display: block;width: 100%;margin-bottom: 0;padding: 0.3em;box-sizing: border-box;text-align: center;}#sk-container-id-4 label.sk-toggleable__label-arrow:before {content: \"▸\";float: left;margin-right: 0.25em;color: #696969;}#sk-container-id-4 label.sk-toggleable__label-arrow:hover:before {color: black;}#sk-container-id-4 div.sk-estimator:hover label.sk-toggleable__label-arrow:before {color: black;}#sk-container-id-4 div.sk-toggleable__content {max-height: 0;max-width: 0;overflow: hidden;text-align: left;background-color: #f0f8ff;}#sk-container-id-4 div.sk-toggleable__content pre {margin: 0.2em;color: black;border-radius: 0.25em;background-color: #f0f8ff;}#sk-container-id-4 input.sk-toggleable__control:checked~div.sk-toggleable__content {max-height: 200px;max-width: 100%;overflow: auto;}#sk-container-id-4 input.sk-toggleable__control:checked~label.sk-toggleable__label-arrow:before {content: \"▾\";}#sk-container-id-4 div.sk-estimator input.sk-toggleable__control:checked~label.sk-toggleable__label {background-color: #d4ebff;}#sk-container-id-4 div.sk-label input.sk-toggleable__control:checked~label.sk-toggleable__label {background-color: #d4ebff;}#sk-container-id-4 input.sk-hidden--visually {border: 0;clip: rect(1px 1px 1px 1px);clip: rect(1px, 1px, 1px, 1px);height: 1px;margin: -1px;overflow: hidden;padding: 0;position: absolute;width: 1px;}#sk-container-id-4 div.sk-estimator {font-family: monospace;background-color: #f0f8ff;border: 1px dotted black;border-radius: 0.25em;box-sizing: border-box;margin-bottom: 0.5em;}#sk-container-id-4 div.sk-estimator:hover {background-color: #d4ebff;}#sk-container-id-4 div.sk-parallel-item::after {content: \"\";width: 100%;border-bottom: 1px solid gray;flex-grow: 1;}#sk-container-id-4 div.sk-label:hover label.sk-toggleable__label {background-color: #d4ebff;}#sk-container-id-4 div.sk-serial::before {content: \"\";position: absolute;border-left: 1px solid gray;box-sizing: border-box;top: 0;bottom: 0;left: 50%;z-index: 0;}#sk-container-id-4 div.sk-serial {display: flex;flex-direction: column;align-items: center;background-color: white;padding-right: 0.2em;padding-left: 0.2em;position: relative;}#sk-container-id-4 div.sk-item {position: relative;z-index: 1;}#sk-container-id-4 div.sk-parallel {display: flex;align-items: stretch;justify-content: center;background-color: white;position: relative;}#sk-container-id-4 div.sk-item::before, #sk-container-id-4 div.sk-parallel-item::before {content: \"\";position: absolute;border-left: 1px solid gray;box-sizing: border-box;top: 0;bottom: 0;left: 50%;z-index: -1;}#sk-container-id-4 div.sk-parallel-item {display: flex;flex-direction: column;z-index: 1;position: relative;background-color: white;}#sk-container-id-4 div.sk-parallel-item:first-child::after {align-self: flex-end;width: 50%;}#sk-container-id-4 div.sk-parallel-item:last-child::after {align-self: flex-start;width: 50%;}#sk-container-id-4 div.sk-parallel-item:only-child::after {width: 0;}#sk-container-id-4 div.sk-dashed-wrapped {border: 1px dashed gray;margin: 0 0.4em 0.5em 0.4em;box-sizing: border-box;padding-bottom: 0.4em;background-color: white;}#sk-container-id-4 div.sk-label label {font-family: monospace;font-weight: bold;display: inline-block;line-height: 1.2em;}#sk-container-id-4 div.sk-label-container {text-align: center;}#sk-container-id-4 div.sk-container {/* jupyter's `normalize.less` sets `[hidden] { display: none; }` but bootstrap.min.css set `[hidden] { display: none !important; }` so we also need the `!important` here to be able to override the default hidden behavior on the sphinx rendered scikit-learn.org. See: https://github.com/scikit-learn/scikit-learn/issues/21755 */display: inline-block !important;position: relative;}#sk-container-id-4 div.sk-text-repr-fallback {display: none;}</style><div id=\"sk-container-id-4\" class=\"sk-top-container\"><div class=\"sk-text-repr-fallback\"><pre>LinearRegression()</pre><b>In a Jupyter environment, please rerun this cell to show the HTML representation or trust the notebook. <br />On GitHub, the HTML representation is unable to render, please try loading this page with nbviewer.org.</b></div><div class=\"sk-container\" hidden><div class=\"sk-item\"><div class=\"sk-estimator sk-toggleable\"><input class=\"sk-toggleable__control sk-hidden--visually\" id=\"sk-estimator-id-4\" type=\"checkbox\" checked><label for=\"sk-estimator-id-4\" class=\"sk-toggleable__label sk-toggleable__label-arrow\">LinearRegression</label><div class=\"sk-toggleable__content\"><pre>LinearRegression()</pre></div></div></div></div></div>"
      ],
      "text/plain": [
       "LinearRegression()"
      ]
     },
     "execution_count": 31,
     "metadata": {},
     "output_type": "execute_result"
    }
   ],
   "source": [
    "from sklearn.preprocessing import PolynomialFeatures\n",
    "\n",
    "poly_features = PolynomialFeatures(degree=4).fit_transform(features)\n",
    "\n",
    "features, targets = pre_df.iloc[:,1:], pre_df.iloc[:, 0]\n",
    "\n",
    "X_train, X_test, y_train, y_test = \\\n",
    "train_test_split(poly_features, targets, test_size=0.2, random_state=105)\n",
    "\n",
    "p_r = LinearRegression()\n",
    "p_r.fit(X_train, y_train)"
   ]
  },
  {
   "cell_type": "code",
   "execution_count": 32,
   "id": "8b8ce4a4",
   "metadata": {
    "execution": {
     "iopub.execute_input": "2024-05-04T05:24:21.091592Z",
     "iopub.status.busy": "2024-05-04T05:24:21.091103Z",
     "iopub.status.idle": "2024-05-04T05:24:21.116193Z",
     "shell.execute_reply": "2024-05-04T05:24:21.114312Z"
    },
    "papermill": {
     "duration": 0.073469,
     "end_time": "2024-05-04T05:24:21.121329",
     "exception": false,
     "start_time": "2024-05-04T05:24:21.047860",
     "status": "completed"
    },
    "tags": []
   },
   "outputs": [
    {
     "name": "stdout",
     "output_type": "stream",
     "text": [
      "MSE: 112684.7029, RMSE: 335.6854, R2: 1.0000\n"
     ]
    }
   ],
   "source": [
    "prediction = p_r.predict(X_test)\n",
    "get_evaluation(y_test, prediction)"
   ]
  },
  {
   "cell_type": "markdown",
   "id": "a409ede8",
   "metadata": {
    "papermill": {
     "duration": 0.044704,
     "end_time": "2024-05-04T05:24:21.210577",
     "exception": false,
     "start_time": "2024-05-04T05:24:21.165873",
     "status": "completed"
    },
    "tags": []
   },
   "source": [
    "### 📌 타겟데이터에 대한 이상치 제거 후 회귀분석 결과 성능이 매우 높아진것을 확인 "
   ]
  },
  {
   "cell_type": "code",
   "execution_count": 33,
   "id": "c319f6e2",
   "metadata": {
    "execution": {
     "iopub.execute_input": "2024-05-04T05:24:21.263244Z",
     "iopub.status.busy": "2024-05-04T05:24:21.262776Z",
     "iopub.status.idle": "2024-05-04T05:24:22.094172Z",
     "shell.execute_reply": "2024-05-04T05:24:22.092695Z"
    },
    "papermill": {
     "duration": 0.858758,
     "end_time": "2024-05-04T05:24:22.097503",
     "exception": false,
     "start_time": "2024-05-04T05:24:21.238745",
     "status": "completed"
    },
    "tags": []
   },
   "outputs": [
    {
     "data": {
      "image/png": "[encoded data removed]",
      "text/plain": [
       "<Figure size 1500x600 with 3 Axes>"
      ]
     },
     "metadata": {},
     "output_type": "display_data"
    }
   ],
   "source": [
    "import matplotlib.pyplot as plt\n",
    "\n",
    "fig, axes = plt.subplots(1, 3, figsize=(15, 6))\n",
    "\n",
    "colors = ['orange', 'red']\n",
    "linear = [0.4876, 0.7439]\n",
    "rfc = [0.7910, 0.9985]\n",
    "lgbm = [0.9322, 0.9968]\n",
    "\n",
    "regressor = ['before', 'after']\n",
    "\n",
    "for i, (method, scores) in enumerate(zip(['Linear Regression', 'RandomForest', 'LGBM'], [linear, rfc, lgbm])):\n",
    "    for j, score in enumerate(scores):\n",
    "        axes[i].bar(regressor[j], score, color=colors[j], label=f'{regressor[j]}: {score:.4f}')\n",
    "        axes[i].text(j, score, f'{score:.4f}', color='black', ha='center', va='bottom')\n",
    "    axes[i].set_xlabel('Regressor')\n",
    "    axes[i].set_ylabel('R2 Score')\n",
    "    axes[i].set_title(f'R2 Score Preprocessing of {method}')\n",
    "    axes[i].set_ylim(0, 1.2) \n",
    "    axes[i].legend()\n",
    "\n",
    "plt.tight_layout() \n",
    "\n",
    "plt.show()\n"
   ]
  }
 ],
 "metadata": {
  "kaggle": {
   "accelerator": "none",
   "dataSources": [
    {
     "datasetId": 4848243,
     "sourceId": 8187532,
     "sourceType": "datasetVersion"
    }
   ],
   "dockerImageVersionId": 30698,
   "isGpuEnabled": false,
   "isInternetEnabled": true,
   "language": "python",
   "sourceType": "notebook"
  },
  "kernelspec": {
   "display_name": "Python 3",
   "language": "python",
   "name": "python3"
  },
  "language_info": {
   "codemirror_mode": {
    "name": "ipython",
    "version": 3
   },
   "file_extension": ".py",
   "mimetype": "text/x-python",
   "name": "python",
   "nbconvert_exporter": "python",
   "pygments_lexer": "ipython3",
   "version": "3.10.13"
  },
  "papermill": {
   "default_parameters": {},
   "duration": 95.475578,
   "end_time": "2024-05-04T05:24:23.347741",
   "environment_variables": {},
   "exception": null,
   "input_path": "__notebook__.ipynb",
   "output_path": "__notebook__.ipynb",
   "parameters": {},
   "start_time": "2024-05-04T05:22:47.872163",
   "version": "2.5.0"
  }
 },
 "nbformat": 4,
 "nbformat_minor": 5
}
